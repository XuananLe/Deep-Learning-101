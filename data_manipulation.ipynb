{
 "cells": [
  {
   "cell_type": "code",
   "execution_count": 63,
   "id": "25545057",
   "metadata": {},
   "outputs": [],
   "source": [
    "import torch"
   ]
  },
  {
   "cell_type": "code",
   "execution_count": 64,
   "id": "0a117c6d",
   "metadata": {},
   "outputs": [
    {
     "name": "stdout",
     "output_type": "stream",
     "text": [
      "True\n"
     ]
    }
   ],
   "source": [
    "print(torch.cuda.is_available())"
   ]
  },
  {
   "cell_type": "code",
   "execution_count": 65,
   "id": "69c7df10",
   "metadata": {},
   "outputs": [],
   "source": [
    "x = torch.arange(0,13,2)\n"
   ]
  },
  {
   "cell_type": "code",
   "execution_count": 66,
   "id": "0c70a891",
   "metadata": {},
   "outputs": [
    {
     "name": "stdout",
     "output_type": "stream",
     "text": [
      "tensor([ 0,  2,  4,  6,  8, 10, 12])\n"
     ]
    }
   ],
   "source": [
    "print(x)"
   ]
  },
  {
   "cell_type": "code",
   "execution_count": 67,
   "id": "681af03a",
   "metadata": {},
   "outputs": [
    {
     "data": {
      "text/plain": [
       "device(type='cpu')"
      ]
     },
     "execution_count": 67,
     "metadata": {},
     "output_type": "execute_result"
    }
   ],
   "source": [
    "x.device"
   ]
  },
  {
   "cell_type": "code",
   "execution_count": 68,
   "id": "22f939af",
   "metadata": {},
   "outputs": [
    {
     "data": {
      "text/plain": [
       "torch.Size([7])"
      ]
     },
     "execution_count": 68,
     "metadata": {},
     "output_type": "execute_result"
    }
   ],
   "source": [
    "x.numel()\n",
    "x.shape"
   ]
  },
  {
   "cell_type": "code",
   "execution_count": 69,
   "id": "fdf62b56",
   "metadata": {},
   "outputs": [
    {
     "data": {
      "text/plain": [
       "torch.Size([7])"
      ]
     },
     "execution_count": 69,
     "metadata": {},
     "output_type": "execute_result"
    }
   ],
   "source": [
    "x.size()"
   ]
  },
  {
   "cell_type": "code",
   "execution_count": 70,
   "id": "45c8a186",
   "metadata": {},
   "outputs": [
    {
     "data": {
      "text/plain": [
       "7"
      ]
     },
     "execution_count": 70,
     "metadata": {},
     "output_type": "execute_result"
    }
   ],
   "source": [
    "x.numel()"
   ]
  },
  {
   "cell_type": "code",
   "execution_count": 71,
   "id": "88cc27bb",
   "metadata": {},
   "outputs": [],
   "source": [
    "y = torch.ones(6)"
   ]
  },
  {
   "cell_type": "code",
   "execution_count": 72,
   "id": "283a3dfe",
   "metadata": {},
   "outputs": [
    {
     "name": "stdout",
     "output_type": "stream",
     "text": [
      "tensor([1., 1., 1., 1., 1., 1.])\n"
     ]
    }
   ],
   "source": [
    "print(y)"
   ]
  },
  {
   "cell_type": "code",
   "execution_count": 73,
   "id": "568ab6d4",
   "metadata": {},
   "outputs": [
    {
     "data": {
      "text/plain": [
       "tensor([[1., 1., 1.],\n",
       "        [1., 1., 1.]])"
      ]
     },
     "execution_count": 73,
     "metadata": {},
     "output_type": "execute_result"
    }
   ],
   "source": [
    "y.reshape([2,3])"
   ]
  },
  {
   "cell_type": "code",
   "execution_count": 74,
   "id": "8affd8f5",
   "metadata": {},
   "outputs": [],
   "source": [
    "var = torch.randn([3,4])"
   ]
  },
  {
   "cell_type": "code",
   "execution_count": 75,
   "id": "aa6b91c1",
   "metadata": {},
   "outputs": [
    {
     "data": {
      "text/plain": [
       "tensor([[-0.0176, -0.9377, -0.6876, -1.6531],\n",
       "        [ 0.0312, -0.4713, -0.1432, -0.1009],\n",
       "        [ 0.5842, -0.9174,  0.8183,  1.3662]])"
      ]
     },
     "execution_count": 75,
     "metadata": {},
     "output_type": "execute_result"
    }
   ],
   "source": [
    "var"
   ]
  },
  {
   "cell_type": "code",
   "execution_count": 76,
   "id": "de9f5387",
   "metadata": {},
   "outputs": [
    {
     "data": {
      "text/plain": [
       "tensor([-0.0176, -0.9377, -0.6876, -1.6531])"
      ]
     },
     "execution_count": 76,
     "metadata": {},
     "output_type": "execute_result"
    }
   ],
   "source": [
    "var[0,:] "
   ]
  },
  {
   "cell_type": "code",
   "execution_count": 77,
   "id": "6a23f499",
   "metadata": {},
   "outputs": [
    {
     "data": {
      "text/plain": [
       "tensor([[-0.0176, -0.9377, -0.6876, -1.6531]])"
      ]
     },
     "execution_count": 77,
     "metadata": {},
     "output_type": "execute_result"
    }
   ],
   "source": [
    "var[0:1,:]"
   ]
  },
  {
   "cell_type": "code",
   "execution_count": 78,
   "id": "865c5739",
   "metadata": {},
   "outputs": [
    {
     "data": {
      "text/plain": [
       "tensor([ 0.5842, -0.9174,  0.8183,  1.3662])"
      ]
     },
     "execution_count": 78,
     "metadata": {},
     "output_type": "execute_result"
    }
   ],
   "source": [
    "y = var[-1,:]\n",
    "y"
   ]
  },
  {
   "cell_type": "code",
   "execution_count": 79,
   "id": "74cf547d",
   "metadata": {},
   "outputs": [
    {
     "data": {
      "text/plain": [
       "tensor([ 0.5842, -0.9174,  0.8183,  1.3662])"
      ]
     },
     "execution_count": 79,
     "metadata": {},
     "output_type": "execute_result"
    }
   ],
   "source": [
    "lastrow = var[-1]\n",
    "lastrow"
   ]
  },
  {
   "cell_type": "code",
   "execution_count": 80,
   "id": "cf85f72d",
   "metadata": {},
   "outputs": [
    {
     "data": {
      "text/plain": [
       "tensor([0.5842, 0.8183, 1.3662])"
      ]
     },
     "execution_count": 80,
     "metadata": {},
     "output_type": "execute_result"
    }
   ],
   "source": [
    "x = lastrow[lastrow > 0]\n",
    "x"
   ]
  },
  {
   "cell_type": "code",
   "execution_count": 81,
   "id": "eb8b3310",
   "metadata": {},
   "outputs": [],
   "source": [
    "larger_than_0 = y.numpy()"
   ]
  },
  {
   "cell_type": "code",
   "execution_count": 82,
   "id": "31c0b0f8",
   "metadata": {},
   "outputs": [
    {
     "name": "stdout",
     "output_type": "stream",
     "text": [
      "0.5842384\n",
      "0.81834257\n",
      "1.3661983\n"
     ]
    }
   ],
   "source": [
    "result = []\n",
    "\n",
    "for num in larger_than_0:\n",
    "    if num > 0:\n",
    "        print(num)\n",
    "        result.append(num)\n"
   ]
  },
  {
   "cell_type": "code",
   "execution_count": 83,
   "id": "9c34e8ad",
   "metadata": {},
   "outputs": [
    {
     "data": {
      "text/plain": [
       "tensor([0.5842, 0.8183, 1.3662])"
      ]
     },
     "execution_count": 83,
     "metadata": {},
     "output_type": "execute_result"
    }
   ],
   "source": [
    "a = torch.FloatTensor(result)\n",
    "a"
   ]
  },
  {
   "cell_type": "code",
   "execution_count": 84,
   "id": "3156592b",
   "metadata": {},
   "outputs": [
    {
     "data": {
      "text/plain": [
       "tensor([[-0.0176, -0.9377, -0.6876, -1.6531],\n",
       "        [ 0.0312, -0.4713, -0.1432, -0.1009],\n",
       "        [ 0.5842, -0.9174,  0.8183,  1.3662]])"
      ]
     },
     "execution_count": 84,
     "metadata": {},
     "output_type": "execute_result"
    }
   ],
   "source": [
    "var"
   ]
  },
  {
   "cell_type": "code",
   "execution_count": 85,
   "id": "42d77f51",
   "metadata": {},
   "outputs": [
    {
     "data": {
      "text/plain": [
       "tensor([[3.1111e-04, 8.7937e-01, 4.7273e-01, 2.7328e+00],\n",
       "        [9.7505e-04, 2.2212e-01, 2.0512e-02, 1.0190e-02],\n",
       "        [3.4133e-01, 8.4164e-01, 6.6968e-01, 1.8665e+00]])"
      ]
     },
     "execution_count": 85,
     "metadata": {},
     "output_type": "execute_result"
    }
   ],
   "source": [
    "var**2"
   ]
  },
  {
   "cell_type": "code",
   "execution_count": 86,
   "id": "eb31516a",
   "metadata": {},
   "outputs": [
    {
     "data": {
      "text/plain": [
       "tensor([[-1.3387],\n",
       "        [ 0.7992],\n",
       "        [-0.6956]])"
      ]
     },
     "execution_count": 86,
     "metadata": {},
     "output_type": "execute_result"
    }
   ],
   "source": [
    "b = torch.randn([3,1])\n",
    "b\n"
   ]
  },
  {
   "cell_type": "code",
   "execution_count": 87,
   "id": "4320fa1d",
   "metadata": {},
   "outputs": [
    {
     "data": {
      "text/plain": [
       "tensor([[3.1111e-04, 8.7937e-01, 4.7273e-01, 2.7328e+00],\n",
       "        [9.7505e-04, 2.2212e-01, 2.0512e-02, 1.0190e-02],\n",
       "        [3.4133e-01, 8.4164e-01, 6.6968e-01, 1.8665e+00]])"
      ]
     },
     "execution_count": 87,
     "metadata": {},
     "output_type": "execute_result"
    }
   ],
   "source": [
    "torch.pow(var,2)"
   ]
  },
  {
   "cell_type": "code",
   "execution_count": 88,
   "id": "64568bf6",
   "metadata": {},
   "outputs": [
    {
     "data": {
      "text/plain": [
       "tensor([[-0.3853, -0.2574, -0.4681,  0.8620],\n",
       "        [-0.8696,  0.8352,  2.0697,  0.2056],\n",
       "        [ 1.0253, -0.5314,  1.5265, -1.0209]])"
      ]
     },
     "execution_count": 88,
     "metadata": {},
     "output_type": "execute_result"
    }
   ],
   "source": [
    "c = torch.randn([3,4])\n",
    "c"
   ]
  },
  {
   "cell_type": "code",
   "execution_count": 62,
   "id": "014a0681",
   "metadata": {},
   "outputs": [
    {
     "data": {
      "text/plain": [
       "tensor([[-1.0468, -1.5000, -0.7368,  1.4151],\n",
       "        [-1.7926,  0.9916, -2.2973,  1.2119],\n",
       "        [ 0.7766,  1.1024,  1.1646,  1.0717]])"
      ]
     },
     "execution_count": 62,
     "metadata": {},
     "output_type": "execute_result"
    }
   ],
   "source": [
    "torch.add(c,b)"
   ]
  },
  {
   "cell_type": "code",
   "execution_count": 89,
   "id": "c3f7706e",
   "metadata": {},
   "outputs": [
    {
     "data": {
      "text/plain": [
       "tensor([[   nan,    nan,    nan,    nan],\n",
       "        [0.0626,    nan,    nan,    nan],\n",
       "        [1.4533,    nan, 1.1496, 0.8049]])"
      ]
     },
     "execution_count": 89,
     "metadata": {},
     "output_type": "execute_result"
    }
   ],
   "source": [
    "torch.pow(var, b)"
   ]
  },
  {
   "cell_type": "code",
   "execution_count": 90,
   "id": "83e1b5a5",
   "metadata": {},
   "outputs": [
    {
     "data": {
      "text/plain": [
       "tensor([[-0.0176, -0.9377, -0.6876, -1.6531],\n",
       "        [ 0.0312, -0.4713, -0.1432, -0.1009],\n",
       "        [ 0.5842, -0.9174,  0.8183,  1.3662]])"
      ]
     },
     "execution_count": 90,
     "metadata": {},
     "output_type": "execute_result"
    }
   ],
   "source": [
    "var"
   ]
  },
  {
   "cell_type": "code",
   "execution_count": 91,
   "id": "4d1607e6",
   "metadata": {},
   "outputs": [
    {
     "data": {
      "text/plain": [
       "tensor([[-1.3387],\n",
       "        [ 0.7992],\n",
       "        [-0.6956]])"
      ]
     },
     "execution_count": 91,
     "metadata": {},
     "output_type": "execute_result"
    }
   ],
   "source": [
    "b"
   ]
  },
  {
   "cell_type": "code",
   "execution_count": 105,
   "id": "26aa4d68",
   "metadata": {},
   "outputs": [],
   "source": [
    "var = var.reshape(12,)\n"
   ]
  },
  {
   "cell_type": "code",
   "execution_count": 112,
   "id": "5749ae72",
   "metadata": {},
   "outputs": [],
   "source": [
    "b = b.reshape(3,)\n",
    "c = torch.ones(9,)\n",
    "d = torch.cat([b,c])\n"
   ]
  },
  {
   "cell_type": "code",
   "execution_count": 113,
   "id": "d341f3ae",
   "metadata": {},
   "outputs": [
    {
     "data": {
      "text/plain": [
       "tensor([-1.3387,  0.7992, -0.6956,  1.0000,  1.0000,  1.0000,  1.0000,  1.0000,\n",
       "         1.0000,  1.0000,  1.0000,  1.0000])"
      ]
     },
     "execution_count": 113,
     "metadata": {},
     "output_type": "execute_result"
    }
   ],
   "source": [
    "d"
   ]
  },
  {
   "cell_type": "code",
   "execution_count": 114,
   "id": "9bf359a3",
   "metadata": {},
   "outputs": [
    {
     "data": {
      "text/plain": [
       "tensor(-0.7335)"
      ]
     },
     "execution_count": 114,
     "metadata": {},
     "output_type": "execute_result"
    }
   ],
   "source": [
    "torch.dot(var,d)"
   ]
  },
  {
   "cell_type": "code",
   "execution_count": 121,
   "id": "5ebca31b",
   "metadata": {},
   "outputs": [
    {
     "data": {
      "text/plain": [
       "tensor([[[-1.1469,  1.7781, -0.0443, -0.4234],\n",
       "         [-2.4599,  0.8936, -0.4037, -0.3973],\n",
       "         [-1.2857,  1.5191, -0.3335, -0.2250]],\n",
       "\n",
       "        [[ 0.1402, -0.5579, -0.7568, -1.3068],\n",
       "         [-0.5445, -0.8141, -0.4878, -0.6523],\n",
       "         [ 0.8108, -0.0074, -0.2365, -0.2989]],\n",
       "\n",
       "        [[-0.4420,  0.4905,  0.1976,  0.5302],\n",
       "         [-0.9236,  0.4373,  0.6696,  1.3877],\n",
       "         [ 0.1525,  0.9649,  0.6418,  1.4620]]])"
      ]
     },
     "execution_count": 121,
     "metadata": {},
     "output_type": "execute_result"
    }
   ],
   "source": [
    "x = torch.randn(3,1,4)\n",
    "y = torch.rand(1,3,4)\n",
    "z = torch.rand(3,3,1)\n",
    "\n",
    "x - y + z"
   ]
  },
  {
   "cell_type": "code",
   "execution_count": null,
   "id": "9b4a0ed3",
   "metadata": {},
   "outputs": [],
   "source": []
  },
  {
   "cell_type": "code",
   "execution_count": null,
   "id": "edac3300",
   "metadata": {},
   "outputs": [],
   "source": []
  }
 ],
 "metadata": {
  "kernelspec": {
   "display_name": "venv",
   "language": "python",
   "name": "python3"
  },
  "language_info": {
   "codemirror_mode": {
    "name": "ipython",
    "version": 3
   },
   "file_extension": ".py",
   "mimetype": "text/x-python",
   "name": "python",
   "nbconvert_exporter": "python",
   "pygments_lexer": "ipython3",
   "version": "3.10.12"
  }
 },
 "nbformat": 4,
 "nbformat_minor": 5
}
