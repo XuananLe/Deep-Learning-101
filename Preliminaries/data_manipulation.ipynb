{
 "cells": [
  {
   "cell_type": "code",
   "execution_count": 6,
   "id": "25545057",
   "metadata": {},
   "outputs": [],
   "source": [
    "import torch"
   ]
  },
  {
   "cell_type": "code",
   "execution_count": 7,
   "id": "0a117c6d",
   "metadata": {},
   "outputs": [
    {
     "name": "stdout",
     "output_type": "stream",
     "text": [
      "True\n"
     ]
    }
   ],
   "source": [
    "print(torch.cuda.is_available())"
   ]
  },
  {
   "cell_type": "code",
   "execution_count": 8,
   "id": "69c7df10",
   "metadata": {},
   "outputs": [],
   "source": [
    "x = torch.arange(0,13,2)\n"
   ]
  },
  {
   "cell_type": "code",
   "execution_count": 9,
   "id": "0c70a891",
   "metadata": {},
   "outputs": [
    {
     "name": "stdout",
     "output_type": "stream",
     "text": [
      "tensor([ 0,  2,  4,  6,  8, 10, 12])\n"
     ]
    }
   ],
   "source": [
    "print(x)"
   ]
  },
  {
   "cell_type": "code",
   "execution_count": 10,
   "id": "681af03a",
   "metadata": {},
   "outputs": [
    {
     "data": {
      "text/plain": [
       "device(type='cpu')"
      ]
     },
     "execution_count": 10,
     "metadata": {},
     "output_type": "execute_result"
    }
   ],
   "source": [
    "x.device"
   ]
  },
  {
   "cell_type": "code",
   "execution_count": 11,
   "id": "22f939af",
   "metadata": {},
   "outputs": [
    {
     "data": {
      "text/plain": [
       "torch.Size([7])"
      ]
     },
     "execution_count": 11,
     "metadata": {},
     "output_type": "execute_result"
    }
   ],
   "source": [
    "x.numel()\n",
    "x.shape"
   ]
  },
  {
   "cell_type": "code",
   "execution_count": 12,
   "id": "fdf62b56",
   "metadata": {},
   "outputs": [
    {
     "data": {
      "text/plain": [
       "torch.Size([7])"
      ]
     },
     "execution_count": 12,
     "metadata": {},
     "output_type": "execute_result"
    }
   ],
   "source": [
    "x.size()"
   ]
  },
  {
   "cell_type": "code",
   "execution_count": 13,
   "id": "45c8a186",
   "metadata": {},
   "outputs": [
    {
     "data": {
      "text/plain": [
       "7"
      ]
     },
     "execution_count": 13,
     "metadata": {},
     "output_type": "execute_result"
    }
   ],
   "source": [
    "x.numel()"
   ]
  },
  {
   "cell_type": "code",
   "execution_count": 14,
   "id": "88cc27bb",
   "metadata": {},
   "outputs": [],
   "source": [
    "y = torch.ones(6)"
   ]
  },
  {
   "cell_type": "markdown",
   "id": "5584d675",
   "metadata": {},
   "source": []
  },
  {
   "cell_type": "code",
   "execution_count": 15,
   "id": "283a3dfe",
   "metadata": {},
   "outputs": [
    {
     "name": "stdout",
     "output_type": "stream",
     "text": [
      "tensor([1., 1., 1., 1., 1., 1.])\n"
     ]
    }
   ],
   "source": [
    "print(y)"
   ]
  },
  {
   "cell_type": "code",
   "execution_count": 16,
   "id": "568ab6d4",
   "metadata": {},
   "outputs": [
    {
     "data": {
      "text/plain": [
       "tensor([[1., 1., 1.],\n",
       "        [1., 1., 1.]])"
      ]
     },
     "execution_count": 16,
     "metadata": {},
     "output_type": "execute_result"
    }
   ],
   "source": [
    "y.reshape([2,3])"
   ]
  },
  {
   "cell_type": "code",
   "execution_count": 17,
   "id": "8affd8f5",
   "metadata": {},
   "outputs": [],
   "source": [
    "var = torch.randn([3,4])"
   ]
  },
  {
   "cell_type": "code",
   "execution_count": 18,
   "id": "aa6b91c1",
   "metadata": {},
   "outputs": [
    {
     "data": {
      "text/plain": [
       "tensor([[-0.1590,  1.5354,  0.7106,  0.7535],\n",
       "        [ 0.3184, -0.3915,  1.4617, -0.6651],\n",
       "        [-0.4450, -0.3923, -1.0304,  0.0744]])"
      ]
     },
     "execution_count": 18,
     "metadata": {},
     "output_type": "execute_result"
    }
   ],
   "source": [
    "var"
   ]
  },
  {
   "cell_type": "code",
   "execution_count": 19,
   "id": "de9f5387",
   "metadata": {},
   "outputs": [
    {
     "data": {
      "text/plain": [
       "tensor([-0.1590,  1.5354,  0.7106,  0.7535])"
      ]
     },
     "execution_count": 19,
     "metadata": {},
     "output_type": "execute_result"
    }
   ],
   "source": [
    "var[0,:] "
   ]
  },
  {
   "cell_type": "code",
   "execution_count": 20,
   "id": "6a23f499",
   "metadata": {},
   "outputs": [
    {
     "data": {
      "text/plain": [
       "tensor([[-0.1590,  1.5354,  0.7106,  0.7535]])"
      ]
     },
     "execution_count": 20,
     "metadata": {},
     "output_type": "execute_result"
    }
   ],
   "source": [
    "var[0:1,:]"
   ]
  },
  {
   "cell_type": "code",
   "execution_count": 21,
   "id": "865c5739",
   "metadata": {},
   "outputs": [
    {
     "data": {
      "text/plain": [
       "tensor([-0.4450, -0.3923, -1.0304,  0.0744])"
      ]
     },
     "execution_count": 21,
     "metadata": {},
     "output_type": "execute_result"
    }
   ],
   "source": [
    "y = var[-1,:]\n",
    "y"
   ]
  },
  {
   "cell_type": "code",
   "execution_count": 22,
   "id": "74cf547d",
   "metadata": {},
   "outputs": [
    {
     "data": {
      "text/plain": [
       "tensor([-0.4450, -0.3923, -1.0304,  0.0744])"
      ]
     },
     "execution_count": 22,
     "metadata": {},
     "output_type": "execute_result"
    }
   ],
   "source": [
    "lastrow = var[-1]\n",
    "lastrow"
   ]
  },
  {
   "cell_type": "code",
   "execution_count": 23,
   "id": "cf85f72d",
   "metadata": {},
   "outputs": [
    {
     "data": {
      "text/plain": [
       "tensor([0.0744])"
      ]
     },
     "execution_count": 23,
     "metadata": {},
     "output_type": "execute_result"
    }
   ],
   "source": [
    "x = lastrow[lastrow > 0]\n",
    "x"
   ]
  },
  {
   "cell_type": "code",
   "execution_count": 24,
   "id": "eb8b3310",
   "metadata": {},
   "outputs": [],
   "source": [
    "larger_than_0 = y.numpy()"
   ]
  },
  {
   "cell_type": "code",
   "execution_count": 25,
   "id": "31c0b0f8",
   "metadata": {},
   "outputs": [
    {
     "name": "stdout",
     "output_type": "stream",
     "text": [
      "0.07436544\n"
     ]
    }
   ],
   "source": [
    "result = []\n",
    "\n",
    "for num in larger_than_0:\n",
    "    if num > 0:\n",
    "        print(num)\n",
    "        result.append(num)\n"
   ]
  },
  {
   "cell_type": "code",
   "execution_count": 26,
   "id": "9c34e8ad",
   "metadata": {},
   "outputs": [
    {
     "data": {
      "text/plain": [
       "tensor([0.0744])"
      ]
     },
     "execution_count": 26,
     "metadata": {},
     "output_type": "execute_result"
    }
   ],
   "source": [
    "a = torch.FloatTensor(result)\n",
    "a"
   ]
  },
  {
   "cell_type": "code",
   "execution_count": 27,
   "id": "3156592b",
   "metadata": {},
   "outputs": [
    {
     "data": {
      "text/plain": [
       "tensor([[-0.1590,  1.5354,  0.7106,  0.7535],\n",
       "        [ 0.3184, -0.3915,  1.4617, -0.6651],\n",
       "        [-0.4450, -0.3923, -1.0304,  0.0744]])"
      ]
     },
     "execution_count": 27,
     "metadata": {},
     "output_type": "execute_result"
    }
   ],
   "source": [
    "var"
   ]
  },
  {
   "cell_type": "code",
   "execution_count": 28,
   "id": "42d77f51",
   "metadata": {},
   "outputs": [
    {
     "data": {
      "text/plain": [
       "tensor([[0.0253, 2.3575, 0.5050, 0.5677],\n",
       "        [0.1014, 0.1533, 2.1367, 0.4424],\n",
       "        [0.1980, 0.1539, 1.0617, 0.0055]])"
      ]
     },
     "execution_count": 28,
     "metadata": {},
     "output_type": "execute_result"
    }
   ],
   "source": [
    "var**2"
   ]
  },
  {
   "cell_type": "code",
   "execution_count": 29,
   "id": "eb31516a",
   "metadata": {},
   "outputs": [
    {
     "data": {
      "text/plain": [
       "tensor([[-1.9413],\n",
       "        [-0.4475],\n",
       "        [ 0.0955]])"
      ]
     },
     "execution_count": 29,
     "metadata": {},
     "output_type": "execute_result"
    }
   ],
   "source": [
    "b = torch.randn([3,1])\n",
    "b\n"
   ]
  },
  {
   "cell_type": "code",
   "execution_count": 30,
   "id": "4320fa1d",
   "metadata": {},
   "outputs": [
    {
     "data": {
      "text/plain": [
       "tensor([[0.0253, 2.3575, 0.5050, 0.5677],\n",
       "        [0.1014, 0.1533, 2.1367, 0.4424],\n",
       "        [0.1980, 0.1539, 1.0617, 0.0055]])"
      ]
     },
     "execution_count": 30,
     "metadata": {},
     "output_type": "execute_result"
    }
   ],
   "source": [
    "torch.pow(var,2)"
   ]
  },
  {
   "cell_type": "code",
   "execution_count": 31,
   "id": "64568bf6",
   "metadata": {},
   "outputs": [
    {
     "data": {
      "text/plain": [
       "tensor([[ 1.3363,  2.1941,  0.5851,  0.7990],\n",
       "        [ 0.2525,  0.4424,  1.0606,  0.5411],\n",
       "        [ 0.8181,  0.0363, -0.1959,  0.1700]])"
      ]
     },
     "execution_count": 31,
     "metadata": {},
     "output_type": "execute_result"
    }
   ],
   "source": [
    "c = torch.randn([3,4])\n",
    "c"
   ]
  },
  {
   "cell_type": "code",
   "execution_count": 32,
   "id": "014a0681",
   "metadata": {},
   "outputs": [
    {
     "data": {
      "text/plain": [
       "tensor([[-0.6050,  0.2528, -1.3563, -1.1423],\n",
       "        [-0.1950, -0.0051,  0.6131,  0.0936],\n",
       "        [ 0.9136,  0.1318, -0.1004,  0.2655]])"
      ]
     },
     "execution_count": 32,
     "metadata": {},
     "output_type": "execute_result"
    }
   ],
   "source": [
    "torch.add(c,b)"
   ]
  },
  {
   "cell_type": "code",
   "execution_count": 33,
   "id": "c3f7706e",
   "metadata": {},
   "outputs": [
    {
     "data": {
      "text/plain": [
       "tensor([[   nan, 0.4350, 1.9411, 1.7323],\n",
       "        [1.6687,    nan, 0.8438,    nan],\n",
       "        [   nan,    nan,    nan, 0.7803]])"
      ]
     },
     "execution_count": 33,
     "metadata": {},
     "output_type": "execute_result"
    }
   ],
   "source": [
    "torch.pow(var, b)"
   ]
  },
  {
   "cell_type": "code",
   "execution_count": 34,
   "id": "83e1b5a5",
   "metadata": {},
   "outputs": [
    {
     "data": {
      "text/plain": [
       "tensor([[-0.1590,  1.5354,  0.7106,  0.7535],\n",
       "        [ 0.3184, -0.3915,  1.4617, -0.6651],\n",
       "        [-0.4450, -0.3923, -1.0304,  0.0744]])"
      ]
     },
     "execution_count": 34,
     "metadata": {},
     "output_type": "execute_result"
    }
   ],
   "source": [
    "var"
   ]
  },
  {
   "cell_type": "code",
   "execution_count": 35,
   "id": "4d1607e6",
   "metadata": {},
   "outputs": [
    {
     "data": {
      "text/plain": [
       "tensor([[-1.9413],\n",
       "        [-0.4475],\n",
       "        [ 0.0955]])"
      ]
     },
     "execution_count": 35,
     "metadata": {},
     "output_type": "execute_result"
    }
   ],
   "source": [
    "b"
   ]
  },
  {
   "cell_type": "code",
   "execution_count": 36,
   "id": "26aa4d68",
   "metadata": {},
   "outputs": [],
   "source": [
    "var = var.reshape(12,)\n"
   ]
  },
  {
   "cell_type": "code",
   "execution_count": 37,
   "id": "5749ae72",
   "metadata": {},
   "outputs": [],
   "source": [
    "b = b.reshape(3,)\n",
    "c = torch.ones(9,)\n",
    "d = torch.cat([b,c])\n"
   ]
  },
  {
   "cell_type": "code",
   "execution_count": 38,
   "id": "d341f3ae",
   "metadata": {},
   "outputs": [
    {
     "data": {
      "text/plain": [
       "tensor([-1.9413, -0.4475,  0.0955,  1.0000,  1.0000,  1.0000,  1.0000,  1.0000,\n",
       "         1.0000,  1.0000,  1.0000,  1.0000])"
      ]
     },
     "execution_count": 38,
     "metadata": {},
     "output_type": "execute_result"
    }
   ],
   "source": [
    "d"
   ]
  },
  {
   "cell_type": "code",
   "execution_count": 39,
   "id": "9bf359a3",
   "metadata": {},
   "outputs": [
    {
     "data": {
      "text/plain": [
       "tensor(-0.6269)"
      ]
     },
     "execution_count": 39,
     "metadata": {},
     "output_type": "execute_result"
    }
   ],
   "source": [
    "torch.dot(var,d)"
   ]
  },
  {
   "cell_type": "code",
   "execution_count": 40,
   "id": "5ebca31b",
   "metadata": {},
   "outputs": [
    {
     "data": {
      "text/plain": [
       "tensor([[[-1.2550,  0.1540, -0.4670,  0.3781],\n",
       "         [-0.6772,  1.1230,  0.5877,  0.8410],\n",
       "         [-1.1941,  0.5339, -0.8266,  0.3196]],\n",
       "\n",
       "        [[-0.5719, -1.2438, -2.4774,  0.6766],\n",
       "         [-1.2296, -1.5103, -2.6582, -0.0960],\n",
       "         [-1.0223, -1.3752, -3.3483,  0.1068]],\n",
       "\n",
       "        [[-1.3551,  1.2235, -0.8620, -2.7386],\n",
       "         [-0.9293,  2.0405,  0.0406, -2.4278],\n",
       "         [-1.0726,  1.8250, -1.0001, -2.5756]]])"
      ]
     },
     "execution_count": 40,
     "metadata": {},
     "output_type": "execute_result"
    }
   ],
   "source": [
    "x = torch.randn(3,1,4)\n",
    "y = torch.rand(1,3,4)\n",
    "z = torch.rand(3,3,1)\n",
    "\n",
    "x - y + z"
   ]
  }
 ],
 "metadata": {
  "kernelspec": {
   "display_name": "venv",
   "language": "python",
   "name": "python3"
  },
  "language_info": {
   "codemirror_mode": {
    "name": "ipython",
    "version": 3
   },
   "file_extension": ".py",
   "mimetype": "text/x-python",
   "name": "python",
   "nbconvert_exporter": "python",
   "pygments_lexer": "ipython3",
   "version": "3.10.12"
  }
 },
 "nbformat": 4,
 "nbformat_minor": 5
}
