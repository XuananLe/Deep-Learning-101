{
 "cells": [
  {
   "cell_type": "code",
   "execution_count": 26,
   "id": "4057b6fe",
   "metadata": {},
   "outputs": [
    {
     "name": "stdout",
     "output_type": "stream",
     "text": [
      "False\n"
     ]
    }
   ],
   "source": [
    "import numpy as np\n",
    "import torch\n",
    "import torch.nn.functional as F\n",
    "print(torch.cuda.is_available())\n",
    "import matplotlib.pyplot as plt\n",
    "%matplotlib inline"
   ]
  },
  {
   "cell_type": "code",
   "execution_count": 2,
   "id": "91d151eb",
   "metadata": {},
   "outputs": [
    {
     "data": {
      "text/plain": [
       "['emma',\n",
       " 'olivia',\n",
       " 'ava',\n",
       " 'isabella',\n",
       " 'sophia',\n",
       " 'charlotte',\n",
       " 'mia',\n",
       " 'amelia',\n",
       " 'harper']"
      ]
     },
     "execution_count": 2,
     "metadata": {},
     "output_type": "execute_result"
    }
   ],
   "source": [
    "words = open('./names.txt', 'r').read().splitlines()\n",
    "words[:9]"
   ]
  },
  {
   "cell_type": "code",
   "execution_count": 3,
   "id": "231573bd",
   "metadata": {},
   "outputs": [],
   "source": [
    "fucking_huge_word = ''.join(words)\n",
    "chars = sorted(list(set(fucking_huge_word)))"
   ]
  },
  {
   "cell_type": "code",
   "execution_count": 4,
   "id": "ecc247cd",
   "metadata": {},
   "outputs": [
    {
     "name": "stdout",
     "output_type": "stream",
     "text": [
      "{'a': 1, 'b': 2, 'c': 3, 'd': 4, 'e': 5, 'f': 6, 'g': 7, 'h': 8, 'i': 9, 'j': 10, 'k': 11, 'l': 12, 'm': 13, 'n': 14, 'o': 15, 'p': 16, 'q': 17, 'r': 18, 's': 19, 't': 20, 'u': 21, 'v': 22, 'w': 23, 'x': 24, 'y': 25, 'z': 26, '.': 0}\n",
      "{1: 'a', 2: 'b', 3: 'c', 4: 'd', 5: 'e', 6: 'f', 7: 'g', 8: 'h', 9: 'i', 10: 'j', 11: 'k', 12: 'l', 13: 'm', 14: 'n', 15: 'o', 16: 'p', 17: 'q', 18: 'r', 19: 's', 20: 't', 21: 'u', 22: 'v', 23: 'w', 24: 'x', 25: 'y', 26: 'z', 0: '.'}\n"
     ]
    }
   ],
   "source": [
    "stoi = {s : i + 1 for i, s in enumerate(chars)}\n",
    "stoi['.'] = 0\n",
    "itos = {i : s for s, i in stoi.items()}\n",
    "print(stoi)\n",
    "print(itos)"
   ]
  },
  {
   "cell_type": "code",
   "execution_count": 5,
   "id": "647654dc",
   "metadata": {},
   "outputs": [],
   "source": [
    "block_size = 3\n",
    "X, Y = [], []\n",
    "# emma \n",
    "# ... => e\n",
    "# ..e => m\n",
    "# .em => m\n",
    "# emm => a\n",
    "# mma => .\n",
    "for w in words[:5]:\n",
    "    w = w + '.'\n",
    "    context = [0] * block_size\n",
    "    for ch in w:\n",
    "        ix = stoi[ch]\n",
    "        X.append(context)\n",
    "        Y.append(ix)\n",
    "        context = context[1:] + [ix]\n",
    "\n",
    "X, Y = torch.tensor(X), torch.tensor(Y)"
   ]
  },
  {
   "cell_type": "code",
   "execution_count": 6,
   "id": "f63c8790",
   "metadata": {},
   "outputs": [
    {
     "data": {
      "text/plain": [
       "tensor([[0.0578, 0.5870],\n",
       "        [0.1527, 0.0844],\n",
       "        [0.0780, 0.9524],\n",
       "        [0.8757, 0.7942],\n",
       "        [0.2902, 0.3848],\n",
       "        [0.6053, 0.4643],\n",
       "        [0.7809, 0.2603],\n",
       "        [0.6612, 0.7750],\n",
       "        [0.8563, 0.1648],\n",
       "        [0.2362, 0.4324],\n",
       "        [0.8589, 0.1081],\n",
       "        [0.9131, 0.7159],\n",
       "        [0.8790, 0.8840],\n",
       "        [0.8719, 0.9432],\n",
       "        [0.2932, 0.0300],\n",
       "        [0.7886, 0.7492],\n",
       "        [0.0945, 0.0063],\n",
       "        [0.8503, 0.6280],\n",
       "        [0.9222, 0.3967],\n",
       "        [0.9339, 0.1590],\n",
       "        [0.7604, 0.3986],\n",
       "        [0.1265, 0.0588],\n",
       "        [0.3818, 0.6440],\n",
       "        [0.2085, 0.3112],\n",
       "        [0.8285, 0.0959],\n",
       "        [0.1233, 0.4152],\n",
       "        [0.7489, 0.2053]])"
      ]
     },
     "execution_count": 6,
     "metadata": {},
     "output_type": "execute_result"
    }
   ],
   "source": [
    "# Build embedding matrix and then we gonna tune in the embedding matrix\n",
    "C = torch.rand((27, 2))\n",
    "C"
   ]
  },
  {
   "cell_type": "code",
   "execution_count": 7,
   "id": "5b4baf6b",
   "metadata": {},
   "outputs": [
    {
     "data": {
      "text/plain": [
       "torch.Size([27, 2])"
      ]
     },
     "execution_count": 7,
     "metadata": {},
     "output_type": "execute_result"
    }
   ],
   "source": [
    "C.shape"
   ]
  },
  {
   "cell_type": "code",
   "execution_count": 8,
   "id": "67d04f11",
   "metadata": {},
   "outputs": [
    {
     "data": {
      "text/plain": [
       "tensor([[0.0578, 0.5870],\n",
       "        [0.1527, 0.0844],\n",
       "        [0.0780, 0.9524]])"
      ]
     },
     "execution_count": 8,
     "metadata": {},
     "output_type": "execute_result"
    }
   ],
   "source": [
    "C[[0, 1, 2]]"
   ]
  },
  {
   "cell_type": "code",
   "execution_count": 9,
   "id": "d16226bd",
   "metadata": {},
   "outputs": [
    {
     "data": {
      "text/plain": [
       "tensor([True, True])"
      ]
     },
     "execution_count": 9,
     "metadata": {},
     "output_type": "execute_result"
    }
   ],
   "source": [
    "# we can think this as both the first layer of a huge neural network or a DICTIONARY\n",
    "C[stoi[itos[5]]] == F.one_hot(torch.tensor(5), num_classes = 27).float() @ C"
   ]
  },
  {
   "cell_type": "code",
   "execution_count": 10,
   "id": "71c82bea",
   "metadata": {},
   "outputs": [
    {
     "data": {
      "text/plain": [
       "torch.Size([32, 3])"
      ]
     },
     "execution_count": 10,
     "metadata": {},
     "output_type": "execute_result"
    }
   ],
   "source": [
    "X.shape"
   ]
  },
  {
   "cell_type": "code",
   "execution_count": 11,
   "id": "0c8c33ec",
   "metadata": {},
   "outputs": [
    {
     "data": {
      "text/plain": [
       "tensor([[0.6053, 0.4643],\n",
       "        [0.6053, 0.4643],\n",
       "        [0.6053, 0.4643],\n",
       "        [0.6053, 0.4643],\n",
       "        [0.7809, 0.2603]])"
      ]
     },
     "execution_count": 11,
     "metadata": {},
     "output_type": "execute_result"
    }
   ],
   "source": [
    "# row 5,6,7\n",
    "C[[5,6,7]]\n",
    "C[torch.tensor([5,5,5,5,6])]"
   ]
  },
  {
   "cell_type": "code",
   "execution_count": 12,
   "id": "0e9285e2",
   "metadata": {},
   "outputs": [
    {
     "data": {
      "text/plain": [
       "torch.Size([32, 3, 2])"
      ]
     },
     "metadata": {},
     "output_type": "display_data"
    },
    {
     "data": {
      "text/plain": [
       "torch.Size([32, 3])"
      ]
     },
     "metadata": {},
     "output_type": "display_data"
    }
   ],
   "source": [
    "display(C[X].shape)\n",
    "display(X.shape)"
   ]
  },
  {
   "cell_type": "code",
   "execution_count": 13,
   "id": "37f1d52d",
   "metadata": {},
   "outputs": [
    {
     "name": "stdout",
     "output_type": "stream",
     "text": [
      "tensor(13)\n",
      "tensor([0.8719, 0.9432])\n",
      "tensor([0.8719, 0.9432])\n"
     ]
    }
   ],
   "source": [
    "print(X[3][1])\n",
    "print(C[X][3][1])\n",
    "print(C[X[3][1]])"
   ]
  },
  {
   "cell_type": "code",
   "execution_count": 14,
   "id": "433e9beb",
   "metadata": {},
   "outputs": [
    {
     "data": {
      "text/plain": [
       "torch.Size([32, 3, 2])"
      ]
     },
     "execution_count": 14,
     "metadata": {},
     "output_type": "execute_result"
    }
   ],
   "source": [
    "emb = C[X]\n",
    "emb.shape"
   ]
  },
  {
   "cell_type": "code",
   "execution_count": 15,
   "id": "f2ecbe79",
   "metadata": {},
   "outputs": [
    {
     "data": {
      "text/plain": [
       "tensor([[True, True],\n",
       "        [True, True],\n",
       "        [True, True]])"
      ]
     },
     "execution_count": 15,
     "metadata": {},
     "output_type": "execute_result"
    }
   ],
   "source": [
    "emb[3] == C[X[3]]"
   ]
  },
  {
   "cell_type": "code",
   "execution_count": 16,
   "id": "a2b10aab",
   "metadata": {},
   "outputs": [
    {
     "data": {
      "text/plain": [
       "tensor([ 5, 13, 13])"
      ]
     },
     "execution_count": 16,
     "metadata": {},
     "output_type": "execute_result"
    }
   ],
   "source": [
    "X[3]"
   ]
  },
  {
   "cell_type": "code",
   "execution_count": 17,
   "id": "0faf7cbb",
   "metadata": {},
   "outputs": [
    {
     "name": "stdout",
     "output_type": "stream",
     "text": [
      "tensor([0.6053, 0.4643])\n",
      "tensor([0.8719, 0.9432])\n"
     ]
    }
   ],
   "source": [
    "print(C[5])\n",
    "print(C[13])"
   ]
  },
  {
   "cell_type": "code",
   "execution_count": 18,
   "id": "f66d4596",
   "metadata": {},
   "outputs": [],
   "source": [
    "W1 = torch.randn((2 * 3, 100)) # 2d embedding and 3 of them\n",
    "b1 = torch.randn(100) # for 100 of them"
   ]
  },
  {
   "cell_type": "code",
   "execution_count": 19,
   "id": "83e3ccdf",
   "metadata": {},
   "outputs": [
    {
     "data": {
      "text/plain": [
       "torch.Size([32, 3, 2])"
      ]
     },
     "execution_count": 19,
     "metadata": {},
     "output_type": "execute_result"
    }
   ],
   "source": [
    "emb.shape"
   ]
  },
  {
   "cell_type": "code",
   "execution_count": 20,
   "id": "535819b3",
   "metadata": {},
   "outputs": [
    {
     "data": {
      "text/plain": [
       "torch.Size([32, 6])"
      ]
     },
     "execution_count": 20,
     "metadata": {},
     "output_type": "execute_result"
    }
   ],
   "source": [
    "emb = emb.view(32, -1)\n",
    "emb.shape"
   ]
  },
  {
   "cell_type": "code",
   "execution_count": 21,
   "id": "fd4a65ed",
   "metadata": {},
   "outputs": [],
   "source": [
    "h = emb @ W1 + b1"
   ]
  },
  {
   "cell_type": "code",
   "execution_count": 22,
   "id": "272d5b11",
   "metadata": {},
   "outputs": [
    {
     "data": {
      "text/plain": [
       "tensor([[-0.7055, -0.1611,  0.8827,  ...,  0.3002,  2.3732, -1.7284],\n",
       "        [-1.2261,  0.1362, -0.0391,  ...,  0.2978,  2.0010, -1.1373],\n",
       "        [-0.8631,  0.3655, -0.1330,  ..., -0.5366,  2.2013, -1.0891],\n",
       "        ...,\n",
       "        [-1.6110, -0.3572,  0.5121,  ...,  0.8182,  2.1828, -0.0986],\n",
       "        [-0.1522,  0.5805,  0.6638,  ...,  0.6593,  0.6412, -1.5293],\n",
       "        [-1.8416, -0.3464,  0.9079,  ...,  2.1036,  2.1808, -1.2714]])"
      ]
     },
     "execution_count": 22,
     "metadata": {},
     "output_type": "execute_result"
    }
   ],
   "source": [
    "h"
   ]
  },
  {
   "cell_type": "code",
   "execution_count": 23,
   "id": "15fe4fa5",
   "metadata": {},
   "outputs": [],
   "source": [
    "h = torch.tanh(h)"
   ]
  },
  {
   "cell_type": "code",
   "execution_count": 24,
   "id": "7904e68e",
   "metadata": {},
   "outputs": [
    {
     "data": {
      "text/plain": [
       "tensor([[-0.6079, -0.1597,  0.7078,  ...,  0.2915,  0.9828, -0.9389],\n",
       "        [-0.8414,  0.1354, -0.0391,  ...,  0.2893,  0.9641, -0.8135],\n",
       "        [-0.6978,  0.3501, -0.1322,  ..., -0.4904,  0.9758, -0.7966],\n",
       "        ...,\n",
       "        [-0.9233, -0.3427,  0.4716,  ...,  0.6741,  0.9749, -0.0983],\n",
       "        [-0.1510,  0.5230,  0.5809,  ...,  0.5779,  0.5657, -0.9103],\n",
       "        [-0.9510, -0.3332,  0.7201,  ...,  0.9707,  0.9748, -0.8542]])"
      ]
     },
     "execution_count": 24,
     "metadata": {},
     "output_type": "execute_result"
    }
   ],
   "source": [
    "h"
   ]
  },
  {
   "cell_type": "code",
   "execution_count": 25,
   "id": "d0e1b55e",
   "metadata": {},
   "outputs": [
    {
     "data": {
      "text/plain": [
       "torch.Size([32, 100])"
      ]
     },
     "execution_count": 25,
     "metadata": {},
     "output_type": "execute_result"
    }
   ],
   "source": [
    "h.shape"
   ]
  }
 ],
 "metadata": {
  "kernelspec": {
   "display_name": ".venv",
   "language": "python",
   "name": "python3"
  },
  "language_info": {
   "codemirror_mode": {
    "name": "ipython",
    "version": 3
   },
   "file_extension": ".py",
   "mimetype": "text/x-python",
   "name": "python",
   "nbconvert_exporter": "python",
   "pygments_lexer": "ipython3",
   "version": "3.10.12"
  }
 },
 "nbformat": 4,
 "nbformat_minor": 5
}
