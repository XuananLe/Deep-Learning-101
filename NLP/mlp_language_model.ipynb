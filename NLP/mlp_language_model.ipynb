{
 "cells": [
  {
   "cell_type": "code",
   "execution_count": 164,
   "id": "4057b6fe",
   "metadata": {},
   "outputs": [
    {
     "name": "stdout",
     "output_type": "stream",
     "text": [
      "True\n"
     ]
    }
   ],
   "source": [
    "import numpy as np\n",
    "import torch\n",
    "import torch.nn.functional as F\n",
    "print(torch.cuda.is_available())\n",
    "import matplotlib.pyplot as plt\n",
    "%matplotlib inline"
   ]
  },
  {
   "cell_type": "code",
   "execution_count": 165,
   "id": "91d151eb",
   "metadata": {},
   "outputs": [
    {
     "data": {
      "text/plain": [
       "['emma',\n",
       " 'olivia',\n",
       " 'ava',\n",
       " 'isabella',\n",
       " 'sophia',\n",
       " 'charlotte',\n",
       " 'mia',\n",
       " 'amelia',\n",
       " 'harper']"
      ]
     },
     "execution_count": 165,
     "metadata": {},
     "output_type": "execute_result"
    }
   ],
   "source": [
    "words = open('./names.txt', 'r').read().splitlines()\n",
    "words[:9]"
   ]
  },
  {
   "cell_type": "code",
   "execution_count": 166,
   "id": "231573bd",
   "metadata": {},
   "outputs": [],
   "source": [
    "fucking_huge_word = ''.join(words)\n",
    "chars = sorted(list(set(fucking_huge_word)))"
   ]
  },
  {
   "cell_type": "code",
   "execution_count": 167,
   "id": "ecc247cd",
   "metadata": {},
   "outputs": [
    {
     "name": "stdout",
     "output_type": "stream",
     "text": [
      "{'a': 1, 'b': 2, 'c': 3, 'd': 4, 'e': 5, 'f': 6, 'g': 7, 'h': 8, 'i': 9, 'j': 10, 'k': 11, 'l': 12, 'm': 13, 'n': 14, 'o': 15, 'p': 16, 'q': 17, 'r': 18, 's': 19, 't': 20, 'u': 21, 'v': 22, 'w': 23, 'x': 24, 'y': 25, 'z': 26, '.': 0}\n",
      "{1: 'a', 2: 'b', 3: 'c', 4: 'd', 5: 'e', 6: 'f', 7: 'g', 8: 'h', 9: 'i', 10: 'j', 11: 'k', 12: 'l', 13: 'm', 14: 'n', 15: 'o', 16: 'p', 17: 'q', 18: 'r', 19: 's', 20: 't', 21: 'u', 22: 'v', 23: 'w', 24: 'x', 25: 'y', 26: 'z', 0: '.'}\n"
     ]
    }
   ],
   "source": [
    "stoi = {s : i + 1 for i, s in enumerate(chars)}\n",
    "stoi['.'] = 0\n",
    "itos = {i : s for s, i in stoi.items()}\n",
    "print(stoi)\n",
    "print(itos)"
   ]
  },
  {
   "cell_type": "code",
   "execution_count": 168,
   "id": "647654dc",
   "metadata": {},
   "outputs": [],
   "source": [
    "block_size = 3\n",
    "X, Y = [], []\n",
    "# emma \n",
    "# ... => e\n",
    "# ..e => m\n",
    "# .em => m\n",
    "# emm => a\n",
    "# mma => .\n",
    "for w in words[:5]:\n",
    "    w = w + '.'\n",
    "    context = [0] * block_size\n",
    "    for ch in w:\n",
    "        ix = stoi[ch]\n",
    "        X.append(context)\n",
    "        Y.append(ix)\n",
    "        context = context[1:] + [ix]\n",
    "\n",
    "X, Y = torch.tensor(X), torch.tensor(Y)"
   ]
  },
  {
   "cell_type": "code",
   "execution_count": 169,
   "id": "f63c8790",
   "metadata": {},
   "outputs": [
    {
     "data": {
      "text/plain": [
       "tensor([[0.1155, 0.6102],\n",
       "        [0.4990, 0.9424],\n",
       "        [0.9326, 0.0268],\n",
       "        [0.1718, 0.3374],\n",
       "        [0.4729, 0.3798],\n",
       "        [0.6443, 0.5647],\n",
       "        [0.1400, 0.6738],\n",
       "        [0.9601, 0.2804],\n",
       "        [0.4017, 0.7037],\n",
       "        [0.4314, 0.4077],\n",
       "        [0.8946, 0.5772],\n",
       "        [0.4084, 0.8274],\n",
       "        [0.6523, 0.4268],\n",
       "        [0.3281, 0.3588],\n",
       "        [0.3595, 0.5337],\n",
       "        [0.7310, 0.6682],\n",
       "        [0.1669, 0.2951],\n",
       "        [0.9258, 0.3876],\n",
       "        [0.2373, 0.2677],\n",
       "        [0.5248, 0.3597],\n",
       "        [0.7314, 0.6706],\n",
       "        [0.1330, 0.4632],\n",
       "        [0.5864, 0.7429],\n",
       "        [0.4953, 0.4058],\n",
       "        [0.6618, 0.3553],\n",
       "        [0.4791, 0.3118],\n",
       "        [0.2735, 0.2778]])"
      ]
     },
     "execution_count": 169,
     "metadata": {},
     "output_type": "execute_result"
    }
   ],
   "source": [
    "# Build embedding matrix and then we gonna tune in the embedding matrix\n",
    "C = torch.rand((27, 2))\n",
    "C"
   ]
  },
  {
   "cell_type": "code",
   "execution_count": 170,
   "id": "5b4baf6b",
   "metadata": {},
   "outputs": [
    {
     "data": {
      "text/plain": [
       "torch.Size([27, 2])"
      ]
     },
     "execution_count": 170,
     "metadata": {},
     "output_type": "execute_result"
    }
   ],
   "source": [
    "C.shape"
   ]
  },
  {
   "cell_type": "code",
   "execution_count": 171,
   "id": "67d04f11",
   "metadata": {},
   "outputs": [
    {
     "data": {
      "text/plain": [
       "tensor([[0.1155, 0.6102],\n",
       "        [0.4990, 0.9424],\n",
       "        [0.9326, 0.0268]])"
      ]
     },
     "execution_count": 171,
     "metadata": {},
     "output_type": "execute_result"
    }
   ],
   "source": [
    "C[[0, 1, 2]]"
   ]
  },
  {
   "cell_type": "code",
   "execution_count": 172,
   "id": "d16226bd",
   "metadata": {},
   "outputs": [
    {
     "data": {
      "text/plain": [
       "tensor([True, True])"
      ]
     },
     "execution_count": 172,
     "metadata": {},
     "output_type": "execute_result"
    }
   ],
   "source": [
    "# we can think this as both the first layer of a huge neural network or a DICTIONARY\n",
    "C[stoi[itos[5]]] == F.one_hot(torch.tensor(5), num_classes = 27).float() @ C"
   ]
  },
  {
   "cell_type": "code",
   "execution_count": 173,
   "id": "71c82bea",
   "metadata": {},
   "outputs": [
    {
     "data": {
      "text/plain": [
       "torch.Size([32, 3])"
      ]
     },
     "execution_count": 173,
     "metadata": {},
     "output_type": "execute_result"
    }
   ],
   "source": [
    "X.shape"
   ]
  },
  {
   "cell_type": "code",
   "execution_count": 174,
   "id": "0c8c33ec",
   "metadata": {},
   "outputs": [
    {
     "data": {
      "text/plain": [
       "tensor([[0.6443, 0.5647],\n",
       "        [0.6443, 0.5647],\n",
       "        [0.6443, 0.5647],\n",
       "        [0.6443, 0.5647],\n",
       "        [0.1400, 0.6738]])"
      ]
     },
     "execution_count": 174,
     "metadata": {},
     "output_type": "execute_result"
    }
   ],
   "source": [
    "# row 5,6,7\n",
    "C[[5,6,7]]\n",
    "C[torch.tensor([5,5,5,5,6])]"
   ]
  },
  {
   "cell_type": "code",
   "execution_count": 175,
   "id": "0e9285e2",
   "metadata": {},
   "outputs": [
    {
     "data": {
      "text/plain": [
       "torch.Size([32, 3, 2])"
      ]
     },
     "metadata": {},
     "output_type": "display_data"
    },
    {
     "data": {
      "text/plain": [
       "torch.Size([32, 3])"
      ]
     },
     "metadata": {},
     "output_type": "display_data"
    }
   ],
   "source": [
    "display(C[X].shape)\n",
    "display(X.shape)"
   ]
  },
  {
   "cell_type": "code",
   "execution_count": 176,
   "id": "37f1d52d",
   "metadata": {},
   "outputs": [
    {
     "name": "stdout",
     "output_type": "stream",
     "text": [
      "tensor(13)\n",
      "tensor([0.3281, 0.3588])\n",
      "tensor([0.3281, 0.3588])\n"
     ]
    }
   ],
   "source": [
    "print(X[3][1])\n",
    "print(C[X][3][1])\n",
    "print(C[X[3][1]])"
   ]
  },
  {
   "cell_type": "code",
   "execution_count": 177,
   "id": "433e9beb",
   "metadata": {},
   "outputs": [
    {
     "data": {
      "text/plain": [
       "torch.Size([32, 3, 2])"
      ]
     },
     "execution_count": 177,
     "metadata": {},
     "output_type": "execute_result"
    }
   ],
   "source": [
    "emb = C[X]\n",
    "emb.shape"
   ]
  },
  {
   "cell_type": "code",
   "execution_count": 178,
   "id": "f2ecbe79",
   "metadata": {},
   "outputs": [
    {
     "data": {
      "text/plain": [
       "tensor([[True, True],\n",
       "        [True, True],\n",
       "        [True, True]])"
      ]
     },
     "execution_count": 178,
     "metadata": {},
     "output_type": "execute_result"
    }
   ],
   "source": [
    "emb[3] == C[X[3]]"
   ]
  },
  {
   "cell_type": "code",
   "execution_count": 179,
   "id": "a2b10aab",
   "metadata": {},
   "outputs": [
    {
     "data": {
      "text/plain": [
       "tensor([ 5, 13, 13])"
      ]
     },
     "execution_count": 179,
     "metadata": {},
     "output_type": "execute_result"
    }
   ],
   "source": [
    "X[3]"
   ]
  },
  {
   "cell_type": "code",
   "execution_count": 180,
   "id": "0faf7cbb",
   "metadata": {},
   "outputs": [
    {
     "name": "stdout",
     "output_type": "stream",
     "text": [
      "tensor([0.6443, 0.5647])\n",
      "tensor([0.3281, 0.3588])\n"
     ]
    }
   ],
   "source": [
    "print(C[5])\n",
    "print(C[13])"
   ]
  },
  {
   "cell_type": "code",
   "execution_count": 181,
   "id": "f66d4596",
   "metadata": {},
   "outputs": [],
   "source": [
    "W1 = torch.randn((2 * 3, 100)) # 2d embedding and 3 of them\n",
    "b1 = torch.randn(100) # for 100 of them"
   ]
  },
  {
   "cell_type": "code",
   "execution_count": 182,
   "id": "83e3ccdf",
   "metadata": {},
   "outputs": [
    {
     "data": {
      "text/plain": [
       "torch.Size([32, 3, 2])"
      ]
     },
     "execution_count": 182,
     "metadata": {},
     "output_type": "execute_result"
    }
   ],
   "source": [
    "emb.shape"
   ]
  },
  {
   "cell_type": "code",
   "execution_count": 183,
   "id": "535819b3",
   "metadata": {},
   "outputs": [
    {
     "data": {
      "text/plain": [
       "torch.Size([32, 6])"
      ]
     },
     "execution_count": 183,
     "metadata": {},
     "output_type": "execute_result"
    }
   ],
   "source": [
    "emb = emb.view(32, -1)\n",
    "emb.shape"
   ]
  },
  {
   "cell_type": "code",
   "execution_count": 184,
   "id": "fd4a65ed",
   "metadata": {},
   "outputs": [],
   "source": [
    "h = emb @ W1 + b1"
   ]
  },
  {
   "cell_type": "code",
   "execution_count": 185,
   "id": "272d5b11",
   "metadata": {},
   "outputs": [
    {
     "data": {
      "text/plain": [
       "tensor([[ 0.3502, -0.8037,  0.1046,  ...,  2.2583,  0.3492, -1.4503],\n",
       "        [ 1.9262, -0.1830,  0.1099,  ...,  1.3037,  0.4850, -1.3775],\n",
       "        [ 0.6585, -0.7783, -0.2079,  ...,  1.7037,  0.5826, -1.0988],\n",
       "        ...,\n",
       "        [ 0.2947, -0.1237,  1.1716,  ...,  1.4305,  0.9120, -1.6787],\n",
       "        [ 1.7896, -0.3736,  0.2908,  ...,  1.5842,  0.1766, -1.4675],\n",
       "        [ 0.3954, -0.1078,  1.1544,  ...,  1.7465,  0.8680, -1.9891]])"
      ]
     },
     "execution_count": 185,
     "metadata": {},
     "output_type": "execute_result"
    }
   ],
   "source": [
    "h"
   ]
  },
  {
   "cell_type": "code",
   "execution_count": 186,
   "id": "15fe4fa5",
   "metadata": {},
   "outputs": [],
   "source": [
    "h = torch.tanh(h)"
   ]
  },
  {
   "cell_type": "code",
   "execution_count": 187,
   "id": "7904e68e",
   "metadata": {},
   "outputs": [
    {
     "data": {
      "text/plain": [
       " 157\n",
       "[torch.storage.UntypedStorage(device=cpu) of size 1]"
      ]
     },
     "execution_count": 187,
     "metadata": {},
     "output_type": "execute_result"
    }
   ],
   "source": [
    "h.untyped_storage()[:1]"
   ]
  },
  {
   "cell_type": "code",
   "execution_count": 188,
   "id": "d0e1b55e",
   "metadata": {},
   "outputs": [
    {
     "data": {
      "text/plain": [
       "torch.Size([32, 100])"
      ]
     },
     "execution_count": 188,
     "metadata": {},
     "output_type": "execute_result"
    }
   ],
   "source": [
    "h.shape"
   ]
  },
  {
   "cell_type": "code",
   "execution_count": 189,
   "id": "95431a43",
   "metadata": {},
   "outputs": [
    {
     "name": "stdout",
     "output_type": "stream",
     "text": [
      "torch.Size([27])\n",
      "torch.Size([100, 27])\n"
     ]
    }
   ],
   "source": [
    "# 27 characters\n",
    "w2 = torch.randn((100, 27))\n",
    "b2 = torch.randn(27)\n",
    "print(b2.shape)\n",
    "print(w2.shape)"
   ]
  },
  {
   "cell_type": "code",
   "execution_count": 190,
   "id": "063276b9",
   "metadata": {},
   "outputs": [
    {
     "data": {
      "text/plain": [
       "torch.Size([32, 27])"
      ]
     },
     "execution_count": 190,
     "metadata": {},
     "output_type": "execute_result"
    }
   ],
   "source": [
    "# 32, 27\n",
    "# 1, 27\n",
    "(h @ w2 + b2).shape"
   ]
  },
  {
   "cell_type": "code",
   "execution_count": 191,
   "id": "e4002aad",
   "metadata": {},
   "outputs": [],
   "source": [
    "logits = h @ w2 + b2"
   ]
  },
  {
   "cell_type": "code",
   "execution_count": 192,
   "id": "eb3cc2de",
   "metadata": {},
   "outputs": [
    {
     "data": {
      "text/plain": [
       "torch.Size([32, 27])"
      ]
     },
     "execution_count": 192,
     "metadata": {},
     "output_type": "execute_result"
    }
   ],
   "source": [
    "probs = torch.softmax(logits, dim = 1)\n",
    "probs.shape"
   ]
  },
  {
   "cell_type": "code",
   "execution_count": 193,
   "id": "7ffabc33",
   "metadata": {},
   "outputs": [
    {
     "data": {
      "text/plain": [
       "tensor([ 5, 13, 13,  1,  0, 15, 12,  9, 22,  9,  1,  0,  1, 22,  1,  0,  9, 19,\n",
       "         1,  2,  5, 12, 12,  1,  0, 19, 15, 16,  8,  9,  1,  0])"
      ]
     },
     "execution_count": 193,
     "metadata": {},
     "output_type": "execute_result"
    }
   ],
   "source": [
    "Y"
   ]
  },
  {
   "cell_type": "code",
   "execution_count": 194,
   "id": "bc4191f6",
   "metadata": {},
   "outputs": [
    {
     "data": {
      "text/plain": [
       "tensor(15.0717)"
      ]
     },
     "execution_count": 194,
     "metadata": {},
     "output_type": "execute_result"
    }
   ],
   "source": [
    "loss = -probs[torch.arange(32), Y].log().mean()\n",
    "loss"
   ]
  },
  {
   "cell_type": "markdown",
   "id": "b68e73b2",
   "metadata": {},
   "source": [
    "Lmao quen het nhung gi da tung code roi"
   ]
  },
  {
   "cell_type": "code",
   "execution_count": 195,
   "id": "322a5691",
   "metadata": {},
   "outputs": [
    {
     "data": {
      "text/plain": [
       "(torch.Size([32, 3]), torch.Size([32]))"
      ]
     },
     "execution_count": 195,
     "metadata": {},
     "output_type": "execute_result"
    }
   ],
   "source": [
    "X.shape, Y.shape"
   ]
  },
  {
   "cell_type": "code",
   "execution_count": 196,
   "id": "8ddb4a83",
   "metadata": {},
   "outputs": [],
   "source": [
    "# embedding matrix\n",
    "C = torch.randn((27, 2))\n",
    "E = C[X]\n",
    "# concat step\n",
    "E_cat = E.view(32, -1) \n",
    "w1 = torch.randn((6, 100))\n",
    "b1 = torch.randn(100)\n",
    "h = E_cat @ w1 + b1\n",
    "h = torch.tanh(h)\n",
    "w2 = torch.randn((100, 27))\n",
    "b2 = torch.randn(27)\n",
    "logits = h @ w2 + b2\n",
    "probs = torch.softmax(logits, dim = 1)"
   ]
  },
  {
   "cell_type": "code",
   "execution_count": 197,
   "id": "47a95467",
   "metadata": {},
   "outputs": [
    {
     "data": {
      "text/plain": [
       "torch.Size([32, 27])"
      ]
     },
     "execution_count": 197,
     "metadata": {},
     "output_type": "execute_result"
    }
   ],
   "source": [
    "probs.shape"
   ]
  },
  {
   "cell_type": "code",
   "execution_count": 198,
   "id": "0f050fe5",
   "metadata": {},
   "outputs": [
    {
     "data": {
      "text/plain": [
       "tensor(16.5445)"
      ]
     },
     "execution_count": 198,
     "metadata": {},
     "output_type": "execute_result"
    }
   ],
   "source": [
    "loss = - probs[torch.arange(32), Y].log().mean()\n",
    "loss"
   ]
  },
  {
   "cell_type": "code",
   "execution_count": 199,
   "id": "757f46d5",
   "metadata": {},
   "outputs": [
    {
     "data": {
      "text/plain": [
       "tensor(16.5445)"
      ]
     },
     "execution_count": 199,
     "metadata": {},
     "output_type": "execute_result"
    }
   ],
   "source": [
    "loss = F.cross_entropy(logits, Y)\n",
    "loss"
   ]
  },
  {
   "cell_type": "code",
   "execution_count": 200,
   "id": "6752e80b",
   "metadata": {},
   "outputs": [],
   "source": [
    "# embedding matrix\n",
    "C = torch.randn((27, 2))\n",
    "E = C[X]\n",
    "# concat step\n",
    "E_cat = E.view(32, -1) \n",
    "w1 = torch.randn((6, 100))\n",
    "b1 = torch.randn(100)\n",
    "h = E_cat @ w1 + b1\n",
    "h = torch.tanh(h)\n",
    "w2 = torch.randn((100, 27))\n",
    "b2 = torch.randn(27)\n",
    "logits = h @ w2 + b2\n",
    "loss = F.cross_entropy(logits, Y)"
   ]
  },
  {
   "cell_type": "code",
   "execution_count": 201,
   "id": "1853c95d",
   "metadata": {},
   "outputs": [],
   "source": [
    "block_size = 3\n",
    "X, Y = [], []\n",
    "# emma \n",
    "# ... => e\n",
    "# ..e => m\n",
    "# .em => m\n",
    "# emm => a\n",
    "# mma => .\n",
    "for w in words:\n",
    "    w = w + '.'\n",
    "    context = [0] * block_size\n",
    "    for ch in w:\n",
    "        ix = stoi[ch]\n",
    "        X.append(context)\n",
    "        Y.append(ix)\n",
    "        context = context[1:] + [ix]\n",
    "\n",
    "X, Y = torch.tensor(X), torch.tensor(Y)"
   ]
  },
  {
   "cell_type": "code",
   "execution_count": 202,
   "id": "a8c8ec90",
   "metadata": {},
   "outputs": [
    {
     "data": {
      "text/plain": [
       "(torch.Size([228146, 3]), torch.Size([228146]))"
      ]
     },
     "execution_count": 202,
     "metadata": {},
     "output_type": "execute_result"
    }
   ],
   "source": [
    "X.shape, Y.shape"
   ]
  },
  {
   "cell_type": "code",
   "execution_count": 203,
   "id": "61ad4aa6",
   "metadata": {},
   "outputs": [],
   "source": [
    "C = torch.randn((27, 2), requires_grad=True)\n",
    "w1 = torch.randn((6, 300), requires_grad=True)\n",
    "b1 = torch.randn(100, requires_grad=True)\n",
    "w2 = torch.randn((100, 27), requires_grad=True)\n",
    "b2 = torch.randn(27, requires_grad=True)\n",
    "lr = 0.01\n",
    "paramets = [C, w1, b1, w2, b2]"
   ]
  },
  {
   "cell_type": "code",
   "execution_count": 204,
   "id": "21788221",
   "metadata": {},
   "outputs": [],
   "source": [
    "for p in paramets:\n",
    "    p.requires_grad = True"
   ]
  },
  {
   "cell_type": "code",
   "execution_count": 205,
   "id": "1eb1a68a",
   "metadata": {},
   "outputs": [
    {
     "data": {
      "text/plain": [
       "tensor([0.0010, 0.0010, 0.0010, 0.0010, 0.0010, 0.0010, 0.0010, 0.0010, 0.0011,\n",
       "        0.0011, 0.0011, 0.0011, 0.0011, 0.0011, 0.0011, 0.0011, 0.0011, 0.0011,\n",
       "        0.0011, 0.0011, 0.0011, 0.0012, 0.0012, 0.0012, 0.0012, 0.0012, 0.0012,\n",
       "        0.0012, 0.0012, 0.0012, 0.0012, 0.0012, 0.0012, 0.0013, 0.0013, 0.0013,\n",
       "        0.0013, 0.0013, 0.0013, 0.0013, 0.0013, 0.0013, 0.0013, 0.0013, 0.0014,\n",
       "        0.0014, 0.0014, 0.0014, 0.0014, 0.0014, 0.0014, 0.0014, 0.0014, 0.0014,\n",
       "        0.0015, 0.0015, 0.0015, 0.0015, 0.0015, 0.0015, 0.0015, 0.0015, 0.0015,\n",
       "        0.0015, 0.0016, 0.0016, 0.0016, 0.0016, 0.0016, 0.0016, 0.0016, 0.0016,\n",
       "        0.0016, 0.0017, 0.0017, 0.0017, 0.0017, 0.0017, 0.0017, 0.0017, 0.0017,\n",
       "        0.0018, 0.0018, 0.0018, 0.0018, 0.0018, 0.0018, 0.0018, 0.0018, 0.0019,\n",
       "        0.0019, 0.0019, 0.0019, 0.0019, 0.0019, 0.0019, 0.0019, 0.0020, 0.0020,\n",
       "        0.0020, 0.0020, 0.0020, 0.0020, 0.0020, 0.0021, 0.0021, 0.0021, 0.0021,\n",
       "        0.0021, 0.0021, 0.0021, 0.0022, 0.0022, 0.0022, 0.0022, 0.0022, 0.0022,\n",
       "        0.0022, 0.0023, 0.0023, 0.0023, 0.0023, 0.0023, 0.0023, 0.0024, 0.0024,\n",
       "        0.0024, 0.0024, 0.0024, 0.0024, 0.0025, 0.0025, 0.0025, 0.0025, 0.0025,\n",
       "        0.0025, 0.0026, 0.0026, 0.0026, 0.0026, 0.0026, 0.0027, 0.0027, 0.0027,\n",
       "        0.0027, 0.0027, 0.0027, 0.0028, 0.0028, 0.0028, 0.0028, 0.0028, 0.0029,\n",
       "        0.0029, 0.0029, 0.0029, 0.0029, 0.0030, 0.0030, 0.0030, 0.0030, 0.0030,\n",
       "        0.0031, 0.0031, 0.0031, 0.0031, 0.0032, 0.0032, 0.0032, 0.0032, 0.0032,\n",
       "        0.0033, 0.0033, 0.0033, 0.0033, 0.0034, 0.0034, 0.0034, 0.0034, 0.0034,\n",
       "        0.0035, 0.0035, 0.0035, 0.0035, 0.0036, 0.0036, 0.0036, 0.0036, 0.0037,\n",
       "        0.0037, 0.0037, 0.0037, 0.0038, 0.0038, 0.0038, 0.0039, 0.0039, 0.0039,\n",
       "        0.0039, 0.0040, 0.0040, 0.0040, 0.0040, 0.0041, 0.0041, 0.0041, 0.0042,\n",
       "        0.0042, 0.0042, 0.0042, 0.0043, 0.0043, 0.0043, 0.0044, 0.0044, 0.0044,\n",
       "        0.0045, 0.0045, 0.0045, 0.0045, 0.0046, 0.0046, 0.0046, 0.0047, 0.0047,\n",
       "        0.0047, 0.0048, 0.0048, 0.0048, 0.0049, 0.0049, 0.0049, 0.0050, 0.0050,\n",
       "        0.0050, 0.0051, 0.0051, 0.0051, 0.0052, 0.0052, 0.0053, 0.0053, 0.0053,\n",
       "        0.0054, 0.0054, 0.0054, 0.0055, 0.0055, 0.0056, 0.0056, 0.0056, 0.0057,\n",
       "        0.0057, 0.0058, 0.0058, 0.0058, 0.0059, 0.0059, 0.0060, 0.0060, 0.0060,\n",
       "        0.0061, 0.0061, 0.0062, 0.0062, 0.0062, 0.0063, 0.0063, 0.0064, 0.0064,\n",
       "        0.0065, 0.0065, 0.0066, 0.0066, 0.0067, 0.0067, 0.0067, 0.0068, 0.0068,\n",
       "        0.0069, 0.0069, 0.0070, 0.0070, 0.0071, 0.0071, 0.0072, 0.0072, 0.0073,\n",
       "        0.0073, 0.0074, 0.0074, 0.0075, 0.0075, 0.0076, 0.0076, 0.0077, 0.0077,\n",
       "        0.0078, 0.0079, 0.0079, 0.0080, 0.0080, 0.0081, 0.0081, 0.0082, 0.0082,\n",
       "        0.0083, 0.0084, 0.0084, 0.0085, 0.0085, 0.0086, 0.0086, 0.0087, 0.0088,\n",
       "        0.0088, 0.0089, 0.0090, 0.0090, 0.0091, 0.0091, 0.0092, 0.0093, 0.0093,\n",
       "        0.0094, 0.0095, 0.0095, 0.0096, 0.0097, 0.0097, 0.0098, 0.0099, 0.0099,\n",
       "        0.0100, 0.0101, 0.0101, 0.0102, 0.0103, 0.0104, 0.0104, 0.0105, 0.0106,\n",
       "        0.0106, 0.0107, 0.0108, 0.0109, 0.0109, 0.0110, 0.0111, 0.0112, 0.0112,\n",
       "        0.0113, 0.0114, 0.0115, 0.0116, 0.0116, 0.0117, 0.0118, 0.0119, 0.0120,\n",
       "        0.0121, 0.0121, 0.0122, 0.0123, 0.0124, 0.0125, 0.0126, 0.0127, 0.0127,\n",
       "        0.0128, 0.0129, 0.0130, 0.0131, 0.0132, 0.0133, 0.0134, 0.0135, 0.0136,\n",
       "        0.0137, 0.0137, 0.0138, 0.0139, 0.0140, 0.0141, 0.0142, 0.0143, 0.0144,\n",
       "        0.0145, 0.0146, 0.0147, 0.0148, 0.0149, 0.0150, 0.0151, 0.0152, 0.0154,\n",
       "        0.0155, 0.0156, 0.0157, 0.0158, 0.0159, 0.0160, 0.0161, 0.0162, 0.0163,\n",
       "        0.0165, 0.0166, 0.0167, 0.0168, 0.0169, 0.0170, 0.0171, 0.0173, 0.0174,\n",
       "        0.0175, 0.0176, 0.0178, 0.0179, 0.0180, 0.0181, 0.0182, 0.0184, 0.0185,\n",
       "        0.0186, 0.0188, 0.0189, 0.0190, 0.0192, 0.0193, 0.0194, 0.0196, 0.0197,\n",
       "        0.0198, 0.0200, 0.0201, 0.0202, 0.0204, 0.0205, 0.0207, 0.0208, 0.0210,\n",
       "        0.0211, 0.0212, 0.0214, 0.0215, 0.0217, 0.0218, 0.0220, 0.0221, 0.0223,\n",
       "        0.0225, 0.0226, 0.0228, 0.0229, 0.0231, 0.0232, 0.0234, 0.0236, 0.0237,\n",
       "        0.0239, 0.0241, 0.0242, 0.0244, 0.0246, 0.0247, 0.0249, 0.0251, 0.0253,\n",
       "        0.0254, 0.0256, 0.0258, 0.0260, 0.0261, 0.0263, 0.0265, 0.0267, 0.0269,\n",
       "        0.0271, 0.0273, 0.0274, 0.0276, 0.0278, 0.0280, 0.0282, 0.0284, 0.0286,\n",
       "        0.0288, 0.0290, 0.0292, 0.0294, 0.0296, 0.0298, 0.0300, 0.0302, 0.0304,\n",
       "        0.0307, 0.0309, 0.0311, 0.0313, 0.0315, 0.0317, 0.0320, 0.0322, 0.0324,\n",
       "        0.0326, 0.0328, 0.0331, 0.0333, 0.0335, 0.0338, 0.0340, 0.0342, 0.0345,\n",
       "        0.0347, 0.0350, 0.0352, 0.0354, 0.0357, 0.0359, 0.0362, 0.0364, 0.0367,\n",
       "        0.0369, 0.0372, 0.0375, 0.0377, 0.0380, 0.0382, 0.0385, 0.0388, 0.0390,\n",
       "        0.0393, 0.0396, 0.0399, 0.0401, 0.0404, 0.0407, 0.0410, 0.0413, 0.0416,\n",
       "        0.0418, 0.0421, 0.0424, 0.0427, 0.0430, 0.0433, 0.0436, 0.0439, 0.0442,\n",
       "        0.0445, 0.0448, 0.0451, 0.0455, 0.0458, 0.0461, 0.0464, 0.0467, 0.0471,\n",
       "        0.0474, 0.0477, 0.0480, 0.0484, 0.0487, 0.0491, 0.0494, 0.0497, 0.0501,\n",
       "        0.0504, 0.0508, 0.0511, 0.0515, 0.0518, 0.0522, 0.0526, 0.0529, 0.0533,\n",
       "        0.0537, 0.0540, 0.0544, 0.0548, 0.0552, 0.0556, 0.0559, 0.0563, 0.0567,\n",
       "        0.0571, 0.0575, 0.0579, 0.0583, 0.0587, 0.0591, 0.0595, 0.0599, 0.0604,\n",
       "        0.0608, 0.0612, 0.0616, 0.0621, 0.0625, 0.0629, 0.0634, 0.0638, 0.0642,\n",
       "        0.0647, 0.0651, 0.0656, 0.0660, 0.0665, 0.0670, 0.0674, 0.0679, 0.0684,\n",
       "        0.0688, 0.0693, 0.0698, 0.0703, 0.0708, 0.0713, 0.0718, 0.0723, 0.0728,\n",
       "        0.0733, 0.0738, 0.0743, 0.0748, 0.0753, 0.0758, 0.0764, 0.0769, 0.0774,\n",
       "        0.0780, 0.0785, 0.0790, 0.0796, 0.0802, 0.0807, 0.0813, 0.0818, 0.0824,\n",
       "        0.0830, 0.0835, 0.0841, 0.0847, 0.0853, 0.0859, 0.0865, 0.0871, 0.0877,\n",
       "        0.0883, 0.0889, 0.0895, 0.0901, 0.0908, 0.0914, 0.0920, 0.0927, 0.0933,\n",
       "        0.0940, 0.0946, 0.0953, 0.0959, 0.0966, 0.0973, 0.0979, 0.0986, 0.0993,\n",
       "        0.1000, 0.1007, 0.1014, 0.1021, 0.1028, 0.1035, 0.1042, 0.1050, 0.1057,\n",
       "        0.1064, 0.1072, 0.1079, 0.1087, 0.1094, 0.1102, 0.1109, 0.1117, 0.1125,\n",
       "        0.1133, 0.1140, 0.1148, 0.1156, 0.1164, 0.1172, 0.1181, 0.1189, 0.1197,\n",
       "        0.1205, 0.1214, 0.1222, 0.1231, 0.1239, 0.1248, 0.1256, 0.1265, 0.1274,\n",
       "        0.1283, 0.1292, 0.1301, 0.1310, 0.1319, 0.1328, 0.1337, 0.1346, 0.1356,\n",
       "        0.1365, 0.1374, 0.1384, 0.1394, 0.1403, 0.1413, 0.1423, 0.1433, 0.1443,\n",
       "        0.1453, 0.1463, 0.1473, 0.1483, 0.1493, 0.1504, 0.1514, 0.1525, 0.1535,\n",
       "        0.1546, 0.1557, 0.1567, 0.1578, 0.1589, 0.1600, 0.1611, 0.1623, 0.1634,\n",
       "        0.1645, 0.1657, 0.1668, 0.1680, 0.1691, 0.1703, 0.1715, 0.1727, 0.1739,\n",
       "        0.1751, 0.1763, 0.1775, 0.1788, 0.1800, 0.1812, 0.1825, 0.1838, 0.1850,\n",
       "        0.1863, 0.1876, 0.1889, 0.1902, 0.1916, 0.1929, 0.1942, 0.1956, 0.1969,\n",
       "        0.1983, 0.1997, 0.2010, 0.2024, 0.2038, 0.2053, 0.2067, 0.2081, 0.2096,\n",
       "        0.2110, 0.2125, 0.2140, 0.2154, 0.2169, 0.2184, 0.2200, 0.2215, 0.2230,\n",
       "        0.2246, 0.2261, 0.2277, 0.2293, 0.2309, 0.2325, 0.2341, 0.2357, 0.2373,\n",
       "        0.2390, 0.2406, 0.2423, 0.2440, 0.2457, 0.2474, 0.2491, 0.2508, 0.2526,\n",
       "        0.2543, 0.2561, 0.2579, 0.2597, 0.2615, 0.2633, 0.2651, 0.2669, 0.2688,\n",
       "        0.2707, 0.2725, 0.2744, 0.2763, 0.2783, 0.2802, 0.2821, 0.2841, 0.2861,\n",
       "        0.2880, 0.2900, 0.2921, 0.2941, 0.2961, 0.2982, 0.3002, 0.3023, 0.3044,\n",
       "        0.3065, 0.3087, 0.3108, 0.3130, 0.3151, 0.3173, 0.3195, 0.3217, 0.3240,\n",
       "        0.3262, 0.3285, 0.3308, 0.3331, 0.3354, 0.3377, 0.3400, 0.3424, 0.3448,\n",
       "        0.3472, 0.3496, 0.3520, 0.3544, 0.3569, 0.3594, 0.3619, 0.3644, 0.3669,\n",
       "        0.3695, 0.3720, 0.3746, 0.3772, 0.3798, 0.3825, 0.3851, 0.3878, 0.3905,\n",
       "        0.3932, 0.3959, 0.3987, 0.4014, 0.4042, 0.4070, 0.4098, 0.4127, 0.4155,\n",
       "        0.4184, 0.4213, 0.4243, 0.4272, 0.4302, 0.4331, 0.4362, 0.4392, 0.4422,\n",
       "        0.4453, 0.4484, 0.4515, 0.4546, 0.4578, 0.4610, 0.4642, 0.4674, 0.4706,\n",
       "        0.4739, 0.4772, 0.4805, 0.4838, 0.4872, 0.4906, 0.4940, 0.4974, 0.5008,\n",
       "        0.5043, 0.5078, 0.5113, 0.5149, 0.5185, 0.5221, 0.5257, 0.5293, 0.5330,\n",
       "        0.5367, 0.5404, 0.5442, 0.5479, 0.5517, 0.5556, 0.5594, 0.5633, 0.5672,\n",
       "        0.5712, 0.5751, 0.5791, 0.5831, 0.5872, 0.5913, 0.5954, 0.5995, 0.6036,\n",
       "        0.6078, 0.6120, 0.6163, 0.6206, 0.6249, 0.6292, 0.6336, 0.6380, 0.6424,\n",
       "        0.6469, 0.6513, 0.6559, 0.6604, 0.6650, 0.6696, 0.6743, 0.6789, 0.6837,\n",
       "        0.6884, 0.6932, 0.6980, 0.7028, 0.7077, 0.7126, 0.7176, 0.7225, 0.7275,\n",
       "        0.7326, 0.7377, 0.7428, 0.7480, 0.7531, 0.7584, 0.7636, 0.7689, 0.7743,\n",
       "        0.7796, 0.7850, 0.7905, 0.7960, 0.8015, 0.8071, 0.8127, 0.8183, 0.8240,\n",
       "        0.8297, 0.8355, 0.8412, 0.8471, 0.8530, 0.8589, 0.8648, 0.8708, 0.8769,\n",
       "        0.8830, 0.8891, 0.8953, 0.9015, 0.9077, 0.9140, 0.9204, 0.9268, 0.9332,\n",
       "        0.9397, 0.9462, 0.9528, 0.9594, 0.9660, 0.9727, 0.9795, 0.9863, 0.9931,\n",
       "        1.0000])"
      ]
     },
     "execution_count": 205,
     "metadata": {},
     "output_type": "execute_result"
    }
   ],
   "source": [
    "lre = 10 ** torch.linspace(-3, 0, 1000)\n",
    "lre"
   ]
  },
  {
   "cell_type": "code",
   "execution_count": 206,
   "id": "029f9896",
   "metadata": {},
   "outputs": [
    {
     "ename": "RuntimeError",
     "evalue": "The size of tensor a (300) must match the size of tensor b (100) at non-singleton dimension 1",
     "output_type": "error",
     "traceback": [
      "\u001b[0;31m---------------------------------------------------------------------------\u001b[0m",
      "\u001b[0;31mRuntimeError\u001b[0m                              Traceback (most recent call last)",
      "Cell \u001b[0;32mIn[206], line 7\u001b[0m\n\u001b[1;32m      5\u001b[0m E \u001b[38;5;241m=\u001b[39m C[X[ix]]\n\u001b[1;32m      6\u001b[0m E_cat \u001b[38;5;241m=\u001b[39m E\u001b[38;5;241m.\u001b[39mview(ix\u001b[38;5;241m.\u001b[39mshape[\u001b[38;5;241m0\u001b[39m], \u001b[38;5;241m-\u001b[39m\u001b[38;5;241m1\u001b[39m)\n\u001b[0;32m----> 7\u001b[0m h \u001b[38;5;241m=\u001b[39m torch\u001b[38;5;241m.\u001b[39mtanh(\u001b[43mE_cat\u001b[49m\u001b[43m \u001b[49m\u001b[38;5;241;43m@\u001b[39;49m\u001b[43m \u001b[49m\u001b[43mw1\u001b[49m\u001b[43m \u001b[49m\u001b[38;5;241;43m+\u001b[39;49m\u001b[43m \u001b[49m\u001b[43mb1\u001b[49m)\n\u001b[1;32m      8\u001b[0m logits \u001b[38;5;241m=\u001b[39m h \u001b[38;5;241m@\u001b[39m w2 \u001b[38;5;241m+\u001b[39m b2\n\u001b[1;32m      9\u001b[0m loss \u001b[38;5;241m=\u001b[39m F\u001b[38;5;241m.\u001b[39mcross_entropy(logits, Y[ix])\n",
      "\u001b[0;31mRuntimeError\u001b[0m: The size of tensor a (300) must match the size of tensor b (100) at non-singleton dimension 1"
     ]
    }
   ],
   "source": [
    "lri = []\n",
    "lossi = []\n",
    "for i in range(1000):\n",
    "    ix = torch.randint(1, X.shape[0], (32, ))\n",
    "    E = C[X[ix]]\n",
    "    E_cat = E.view(ix.shape[0], -1)\n",
    "    h = torch.tanh(E_cat @ w1 + b1)\n",
    "    logits = h @ w2 + b2\n",
    "    loss = F.cross_entropy(logits, Y[ix])\n",
    "    # backward\n",
    "    for p in paramets:\n",
    "        p.grad = None\n",
    "        \n",
    "    loss.backward()\n",
    "    # forward pass\n",
    "    for p in paramets:\n",
    "        p.data -= 0.001 * p.grad\n",
    "print(loss.item())"
   ]
  },
  {
   "cell_type": "code",
   "execution_count": null,
   "id": "39ee1693",
   "metadata": {},
   "outputs": [
    {
     "data": {
      "text/plain": [
       "torch.return_types.max(\n",
       "values=tensor([11.9339,  4.9881, 10.6721,  9.5823,  5.5438,  9.9059, 10.0798,  8.0671,\n",
       "         8.0671,  8.2651, 12.6922,  8.5463,  8.1610,  6.7702,  7.7726, 22.6047,\n",
       "         6.7232, 12.4589, 20.6809, 12.2631,  9.9957,  9.3701, 14.9758, 13.4416,\n",
       "         5.9680,  7.9350,  8.0671, 12.9334, 20.1009,  9.5563,  8.0671,  8.4549],\n",
       "       grad_fn=<MaxBackward0>),\n",
       "indices=tensor([ 4,  0, 20,  4, 13,  5,  5,  1,  1,  5,  0, 23, 13, 14,  7,  9, 22, 14,\n",
       "        15, 11,  1, 25, 26, 14, 16, 25,  1,  2,  9,  7,  1,  6]))"
      ]
     },
     "execution_count": 104,
     "metadata": {},
     "output_type": "execute_result"
    }
   ],
   "source": [
    "logits.max(dim = 1)"
   ]
  },
  {
   "cell_type": "code",
   "execution_count": null,
   "id": "71af3c28",
   "metadata": {},
   "outputs": [
    {
     "data": {
      "text/plain": [
       "(torch.Size([228146, 3]), torch.Size([228146]))"
      ]
     },
     "execution_count": 105,
     "metadata": {},
     "output_type": "execute_result"
    }
   ],
   "source": [
    "X.shape, Y.shape"
   ]
  },
  {
   "cell_type": "code",
   "execution_count": null,
   "id": "afa3a2c8",
   "metadata": {},
   "outputs": [
    {
     "name": "stdout",
     "output_type": "stream",
     "text": [
      "tensor(10.2685, grad_fn=<NllLossBackward0>)\n"
     ]
    }
   ],
   "source": [
    "E = C[X]\n",
    "E_cat = E.view(X.shape[0], -1)\n",
    "h = torch.tanh(E_cat @ w1 + b1)\n",
    "logits = h @ w2 + b2\n",
    "loss = F.cross_entropy(logits, Y)\n",
    "print(loss)"
   ]
  },
  {
   "cell_type": "code",
   "execution_count": null,
   "id": "55d9f3bd",
   "metadata": {},
   "outputs": [],
   "source": [
    "def build_dataset(words):\n",
    "    block_size = 3\n",
    "    X, Y = [], []\n",
    "    # emma \n",
    "    # ... => e\n",
    "    # ..e => m\n",
    "    # .em => m\n",
    "    # emm => a\n",
    "    # mma => .\n",
    "    for w in words:\n",
    "        w = w + '.'\n",
    "        context = [0] * block_size\n",
    "        for ch in w:\n",
    "            ix = stoi[ch]\n",
    "            X.append(context)\n",
    "            Y.append(ix)\n",
    "            context = context[1:] + [ix]\n",
    "\n",
    "    X, Y = torch.tensor(X), torch.tensor(Y)\n",
    "    return X, Y"
   ]
  },
  {
   "cell_type": "code",
   "execution_count": null,
   "id": "8462b245",
   "metadata": {},
   "outputs": [],
   "source": [
    "import random\n",
    "random.seed = 42\n",
    "random.shuffle(words)"
   ]
  },
  {
   "cell_type": "code",
   "execution_count": null,
   "id": "422100ec",
   "metadata": {},
   "outputs": [
    {
     "name": "stdout",
     "output_type": "stream",
     "text": [
      "25626 28829\n"
     ]
    }
   ],
   "source": [
    "n1 = int(0.8 * len(words))\n",
    "n2 = int(0.9 * len(words))\n",
    "print(n1, n2)"
   ]
  },
  {
   "cell_type": "code",
   "execution_count": null,
   "id": "5bae42fe",
   "metadata": {},
   "outputs": [],
   "source": [
    "X_train, Y_train = build_dataset(words[:n1])\n",
    "X_val, Y_val = build_dataset(words[n1:n2])\n",
    "X_test, Y_test = build_dataset(words[:n1])"
   ]
  },
  {
   "cell_type": "code",
   "execution_count": null,
   "id": "1219fe0e",
   "metadata": {},
   "outputs": [],
   "source": [
    "C = torch.randn((27, 10), requires_grad=True)\n",
    "w1 = torch.randn((30, 300), requires_grad=True)\n",
    "b1 = torch.randn(300, requires_grad=True)\n",
    "w2 = torch.randn((300, 27), requires_grad=True)\n",
    "b2 = torch.randn(27, requires_grad=True)\n",
    "lr = 0.01\n",
    "stepi = []\n",
    "lossi = []\n",
    "\n",
    "paramets = [C, w1, b1, w2, b2]"
   ]
  },
  {
   "cell_type": "code",
   "execution_count": null,
   "id": "afa67d4b",
   "metadata": {},
   "outputs": [
    {
     "name": "stdout",
     "output_type": "stream",
     "text": [
      "8.056496620178223\n"
     ]
    }
   ],
   "source": [
    "for i in range(1000):\n",
    "    ix = torch.randint(1, X_train.shape[0], (32, ))\n",
    "    E = C[X[ix]]\n",
    "    E_cat = E.view(ix.shape[0], -1)\n",
    "    h = torch.tanh(E_cat @ w1 + b1)\n",
    "    logits = h @ w2 + b2\n",
    "    loss = F.cross_entropy(logits, Y_train[ix])\n",
    "    # backward\n",
    "    for p in paramets:\n",
    "        p.grad = None\n",
    "    \n",
    "    stepi.append(i)\n",
    "    lossi.append(loss.log10().item())\n",
    "    loss.backward()\n",
    "    # forward pass\n",
    "    for p in paramets:\n",
    "        p.data -= 0.01 * p.grad\n",
    "print(loss.item())"
   ]
  },
  {
   "cell_type": "code",
   "execution_count": null,
   "id": "fe4eb953",
   "metadata": {},
   "outputs": [
    {
     "data": {
      "text/plain": [
       "[<matplotlib.lines.Line2D at 0x7fb6e368f880>]"
      ]
     },
     "execution_count": 144,
     "metadata": {},
     "output_type": "execute_result"
    },
    {
     "data": {
      "image/png": "[encoded data removed]",
      "text/plain": [
       "<Figure size 640x480 with 1 Axes>"
      ]
     },
     "metadata": {},
     "output_type": "display_data"
    }
   ],
   "source": [
    "plt.plot(stepi, lossi)"
   ]
  },
  {
   "cell_type": "code",
   "execution_count": null,
   "id": "3104cb2b",
   "metadata": {},
   "outputs": [
    {
     "name": "stdout",
     "output_type": "stream",
     "text": [
      "tensor(9.7086, grad_fn=<NllLossBackward0>)\n"
     ]
    }
   ],
   "source": [
    "E = C[X_val]\n",
    "E_cat = E.view(X_val.shape[0], -1)\n",
    "h = torch.tanh(E_cat @ w1 + b1)\n",
    "logits = h @ w2 + b2\n",
    "loss = F.cross_entropy(logits, Y_val)\n",
    "print(loss)"
   ]
  },
  {
   "cell_type": "code",
   "execution_count": null,
   "id": "b1f7b5c9",
   "metadata": {},
   "outputs": [
    {
     "name": "stdout",
     "output_type": "stream",
     "text": [
      "tensor([[ 1.6801, -0.8435, -1.8790,  0.3666,  1.8159,  0.1760, -1.5746, -1.8805,\n",
      "         -1.1166, -0.9433],\n",
      "        [ 1.6801, -0.8435, -1.8790,  0.3666,  1.8159,  0.1760, -1.5746, -1.8805,\n",
      "         -1.1166, -0.9433],\n",
      "        [ 1.6801, -0.8435, -1.8790,  0.3666,  1.8159,  0.1760, -1.5746, -1.8805,\n",
      "         -1.1166, -0.9433]], grad_fn=<IndexBackward0>)\n"
     ]
    }
   ],
   "source": [
    "context = [0] * block_size\n",
    "print(C[torch.tensor(context)])"
   ]
  },
  {
   "cell_type": "code",
   "execution_count": null,
   "id": "92df26bd",
   "metadata": {},
   "outputs": [
    {
     "data": {
      "text/plain": [
       "torch.Size([30, 300])"
      ]
     },
     "execution_count": 156,
     "metadata": {},
     "output_type": "execute_result"
    }
   ],
   "source": [
    "w1.shape"
   ]
  },
  {
   "cell_type": "code",
   "execution_count": null,
   "id": "5b1c814e",
   "metadata": {},
   "outputs": [
    {
     "name": "stdout",
     "output_type": "stream",
     "text": [
      "eryar.\n",
      "mnaalrln.\n",
      "vg.\n",
      ".\n",
      "rskyo.\n",
      "emnrqtbjlssydevaenlstn.\n",
      "itaaa.\n",
      ".\n",
      "rerleeeamoatqsahrlvrqtodswnal.\n",
      ".\n",
      "shecoygady.\n",
      "ieadjatinenipeyxoev.\n",
      "oon.\n",
      ".\n",
      "emn.\n",
      "d.\n",
      ".\n",
      ".\n",
      "y.\n",
      "dlntank.\n"
     ]
    }
   ],
   "source": [
    "for _ in range(20):\n",
    "    out = []\n",
    "    context = [0] * block_size # initialize with all ...\n",
    "    while True:\n",
    "      emb = C[torch.tensor([context])] # (1,block_size,d)\n",
    "      h = torch.tanh(emb.view(1, -1) @ w1 + b1)\n",
    "      logits = h @ w2 + b2\n",
    "      probs = F.softmax(logits, dim=1)\n",
    "      ix = torch.multinomial(probs, num_samples=1).item()\n",
    "      context = context[1:] + [ix]\n",
    "      out.append(ix)\n",
    "      if ix == 0:\n",
    "        break\n",
    "    \n",
    "    print(''.join(itos[i] for i in out))"
   ]
  }
 ],
 "metadata": {
  "kernelspec": {
   "display_name": ".venv",
   "language": "python",
   "name": "python3"
  },
  "language_info": {
   "codemirror_mode": {
    "name": "ipython",
    "version": 3
   },
   "file_extension": ".py",
   "mimetype": "text/x-python",
   "name": "python",
   "nbconvert_exporter": "python",
   "pygments_lexer": "ipython3",
   "version": "3.10.12"
  }
 },
 "nbformat": 4,
 "nbformat_minor": 5
}
