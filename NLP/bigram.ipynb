{
 "cells": [
  {
   "cell_type": "code",
   "execution_count": null,
   "id": "b74f0f61",
   "metadata": {},
   "outputs": [],
   "source": [
    "words = open('./names.txt', 'r').read().splitlines()"
   ]
  },
  {
   "cell_type": "code",
   "execution_count": null,
   "id": "a74e4229",
   "metadata": {},
   "outputs": [],
   "source": [
    "words[:10]"
   ]
  },
  {
   "cell_type": "code",
   "execution_count": null,
   "id": "09e0e48a",
   "metadata": {},
   "outputs": [],
   "source": [
    "from collections import defaultdict\n",
    "count = defaultdict(int)\n",
    "for w in words:\n",
    "    chs = ['<S>'] + list(w) + ['<E>'] \n",
    "    for c1, c2 in zip(chs, chs[1:]):\n",
    "        bigram = (c1, c2)\n",
    "        count[bigram] += 1"
   ]
  },
  {
   "cell_type": "code",
   "execution_count": null,
   "id": "83833e35",
   "metadata": {},
   "outputs": [],
   "source": [
    "count"
   ]
  },
  {
   "cell_type": "code",
   "execution_count": null,
   "id": "61cb1807",
   "metadata": {},
   "outputs": [],
   "source": [
    "sorted(count.items(), key = lambda kv : kv[1], reverse=True)"
   ]
  },
  {
   "cell_type": "code",
   "execution_count": null,
   "id": "05e79120",
   "metadata": {},
   "outputs": [],
   "source": [
    "import torch"
   ]
  },
  {
   "cell_type": "code",
   "execution_count": null,
   "id": "6bb0404a",
   "metadata": {},
   "outputs": [],
   "source": [
    "chars = sorted(list(set(''.join(words))))\n",
    "len(chars)"
   ]
  },
  {
   "cell_type": "code",
   "execution_count": null,
   "id": "b5264da3",
   "metadata": {},
   "outputs": [],
   "source": [
    "stoi = {s : i for i, s in enumerate(chars)}\n",
    "stoi['.'] = 26\n",
    "itos = {i : s for s, i in stoi.items()}\n",
    "itos"
   ]
  },
  {
   "cell_type": "code",
   "execution_count": null,
   "id": "41d3a5ce",
   "metadata": {},
   "outputs": [],
   "source": [
    "N = torch.zeros((27, 27), dtype=torch.int32)"
   ]
  },
  {
   "cell_type": "code",
   "execution_count": null,
   "id": "67a69da6",
   "metadata": {},
   "outputs": [],
   "source": [
    "from collections import defaultdict\n",
    "count = defaultdict(int)\n",
    "for w in words:\n",
    "    chs = ['.'] + list(w) + ['.'] \n",
    "    for c1, c2 in zip(chs, chs[1:]):\n",
    "        N[stoi[c1], stoi[c2]] += 1"
   ]
  },
  {
   "cell_type": "code",
   "execution_count": null,
   "id": "6c8f3bc4",
   "metadata": {},
   "outputs": [],
   "source": [
    "import matplotlib.pyplot as plt\n",
    "%matplotlib inline\n",
    "\n",
    "plt.figure(figsize=(16,16))\n",
    "plt.imshow(N, cmap='Blues')\n",
    "for i in range(27):\n",
    "    for j in range(27):\n",
    "        chstr = itos[i] + itos[j]\n",
    "        plt.text(j, i, chstr, ha=\"center\", va=\"bottom\", color='gray')\n",
    "        plt.text(j, i, N[i, j].item(), ha=\"center\", va=\"top\", color='gray')\n",
    "plt.axis('off');"
   ]
  },
  {
   "cell_type": "code",
   "execution_count": null,
   "id": "5875ab0c",
   "metadata": {},
   "outputs": [],
   "source": [
    "N.sum(dim = 1)"
   ]
  },
  {
   "cell_type": "code",
   "execution_count": null,
   "id": "48915275",
   "metadata": {},
   "outputs": [],
   "source": [
    "N.sum(dim = 1).shape"
   ]
  },
  {
   "cell_type": "code",
   "execution_count": null,
   "id": "2237819b",
   "metadata": {},
   "outputs": [],
   "source": [
    "P = (N + 1).float() \n",
    "P /= N.sum(dim = 1, keepdim=True)\n",
    "P.shape"
   ]
  },
  {
   "cell_type": "code",
   "execution_count": null,
   "id": "0fabfb90",
   "metadata": {},
   "outputs": [],
   "source": [
    "P[0].sum()"
   ]
  },
  {
   "cell_type": "code",
   "execution_count": null,
   "id": "37798553",
   "metadata": {},
   "outputs": [],
   "source": [
    "ix = 0\n",
    "for _ in range(20):\n",
    "    out = []\n",
    "    while True:\n",
    "        p = P[ix]   \n",
    "        ix = torch.multinomial(p, 1, replacement=True).item()\n",
    "        out.append(itos[ix])\n",
    "        if ix == 26:\n",
    "            break\n",
    "    print(''.join(out))"
   ]
  },
  {
   "cell_type": "markdown",
   "id": "873e2432",
   "metadata": {},
   "source": [
    "a * b * c\n",
    "Likelihood Function:\n",
    "    L(θ)=P(X1​,X2​,...,Xn​∣θ)=i= prod(​P(Xi​∣θ))\n"
   ]
  },
  {
   "cell_type": "code",
   "execution_count": null,
   "id": "e87d5ab5",
   "metadata": {},
   "outputs": [],
   "source": [
    "log_likelihood = 0\n",
    "n = 0\n",
    "for w in [\"andrekx\"]:\n",
    "    chs = ['.'] + list(w) + ['.']\n",
    "    for c1, c2 in zip(chs, chs[1:]):\n",
    "        index_1 = stoi[c1]\n",
    "        index_2 = stoi[c2]  \n",
    "        prob = P[index_1][index_2]\n",
    "        log_prob = torch.log(torch.Tensor(prob))\n",
    "        log_likelihood += log_prob\n",
    "        n += 1\n",
    "        print(f'{c1 + c2} with index {index_1, index_2}, {prob:.4f} {log_prob:.4f}')\n",
    "print(log_likelihood)\n",
    "nlh = -log_likelihood\n",
    "print(nlh)\n",
    "print(nlh / n) # the lower the better"
   ]
  },
  {
   "cell_type": "code",
   "execution_count": null,
   "id": "8961de12",
   "metadata": {},
   "outputs": [],
   "source": [
    "# tao training set cua cac bigram\n",
    "xs, ys = [], []\n",
    "for w in words[:1]:\n",
    "    chs = ['.'] + list(w) + ['.'] \n",
    "    for c1, c2 in zip(chs, chs[1:]):\n",
    "        print(c1 + c2)\n",
    "        index_1 = stoi[c1]\n",
    "        index_2 = stoi[c2]\n",
    "        xs.append(index_1)\n",
    "        ys.append(index_2)\n",
    "        \n",
    "xs = torch.tensor(xs)\n",
    "ys = torch.tensor(ys)\n",
    "display(xs)\n",
    "display(ys)\n",
    "print(itos[xs[0].item()] + itos[ys[1].item()])"
   ]
  },
  {
   "cell_type": "code",
   "execution_count": null,
   "id": "c6eb5977",
   "metadata": {},
   "outputs": [],
   "source": [
    "import torch.nn.functional as f"
   ]
  },
  {
   "cell_type": "code",
   "execution_count": null,
   "id": "824cd44d",
   "metadata": {},
   "outputs": [],
   "source": [
    "xs_encoded = f.one_hot(xs, num_classes=27).float()"
   ]
  },
  {
   "cell_type": "code",
   "execution_count": null,
   "id": "59355419",
   "metadata": {},
   "outputs": [],
   "source": [
    "xs_encoded.dtype\n",
    "xs_encoded.shape"
   ]
  },
  {
   "cell_type": "code",
   "execution_count": null,
   "id": "07959bea",
   "metadata": {},
   "outputs": [],
   "source": [
    "plt.imshow(xs_encoded)"
   ]
  },
  {
   "cell_type": "code",
   "execution_count": null,
   "id": "b2c8bd2e",
   "metadata": {},
   "outputs": [],
   "source": [
    "W = torch.randn((27, 27))\n",
    "xs_encoded @ W"
   ]
  },
  {
   "cell_type": "code",
   "execution_count": null,
   "id": "ad423d4b",
   "metadata": {},
   "outputs": [],
   "source": [
    "W"
   ]
  },
  {
   "cell_type": "code",
   "execution_count": null,
   "id": "93c477a5",
   "metadata": {},
   "outputs": [],
   "source": [
    "logits = xs_encoded @ W\n",
    "logits"
   ]
  },
  {
   "cell_type": "code",
   "execution_count": null,
   "id": "8e2f6eed",
   "metadata": {},
   "outputs": [],
   "source": [
    "probs = f.softmax(logits)\n",
    "probs"
   ]
  },
  {
   "cell_type": "code",
   "execution_count": null,
   "id": "5df734ba",
   "metadata": {},
   "outputs": [],
   "source": [
    "probs.shape"
   ]
  },
  {
   "cell_type": "code",
   "execution_count": null,
   "id": "0c0290c1",
   "metadata": {},
   "outputs": [],
   "source": [
    "display(xs)\n",
    "display(ys)"
   ]
  },
  {
   "cell_type": "code",
   "execution_count": null,
   "id": "c86d4e78",
   "metadata": {},
   "outputs": [],
   "source": [
    "W = torch.randn((27, 27), requires_grad = True)"
   ]
  },
  {
   "cell_type": "code",
   "execution_count": null,
   "id": "d5a11a85",
   "metadata": {},
   "outputs": [],
   "source": [
    "logits = xs_encoded @ W\n",
    "probs = f.softmax(logits, dim = 1)\n",
    "for i in range(len(xs)):\n",
    "    x = xs[i].item()\n",
    "    y = ys[i].item()\n",
    "    bi_gram = itos[x] + itos[y]\n",
    "    print('The word is ', bi_gram)\n",
    "    print('The probs is ', probs[i].max())\n",
    "    print('The predicted word is ', itos[torch.argmax(probs[i]).item()])\n",
    "    print('Prob for the correct word is', probs[i][y])\n",
    "    print(\"=\" * 10)\n",
    "    "
   ]
  },
  {
   "cell_type": "code",
   "execution_count": null,
   "id": "7b11675d",
   "metadata": {},
   "outputs": [],
   "source": [
    "probs[0, 5], probs[1, 13], probs[2, 13]"
   ]
  },
  {
   "cell_type": "code",
   "execution_count": null,
   "id": "1359162f",
   "metadata": {},
   "outputs": [],
   "source": [
    "# Negative likelihood\n",
    "-probs[torch.arange(5), ys].log().mean()\n",
    "# we want all this to one"
   ]
  },
  {
   "cell_type": "code",
   "execution_count": null,
   "id": "8b5fd846",
   "metadata": {},
   "outputs": [],
   "source": [
    "display(xs)\n",
    "display(ys)"
   ]
  },
  {
   "cell_type": "code",
   "execution_count": null,
   "id": "b9a009ba",
   "metadata": {},
   "outputs": [],
   "source": [
    "# forward pass\n",
    "xs_encoded = f.one_hot(xs).float()\n",
    "logits = xs_encoded @ W\n",
    "probs = f.softmax(logits, dim = 1)\n",
    "loss = -probs[torch.arange(5), ys].log().mean()"
   ]
  },
  {
   "cell_type": "code",
   "execution_count": null,
   "id": "65a8c658",
   "metadata": {},
   "outputs": [],
   "source": [
    "# backward pass\n",
    "W.grad = None"
   ]
  },
  {
   "cell_type": "code",
   "execution_count": null,
   "id": "8d42735c",
   "metadata": {},
   "outputs": [],
   "source": [
    "print(loss)\n",
    "loss.backward()\n",
    "lr = 0.01\n",
    "W.data -= lr * W.grad"
   ]
  },
  {
   "cell_type": "code",
   "execution_count": null,
   "id": "c356b01d",
   "metadata": {},
   "outputs": [],
   "source": [
    "logits = xs_encoded @ W\n",
    "probs = f.softmax(logits, dim = 1)\n",
    "loss = -probs[torch.arange(5), ys].log().mean()\n",
    "print(loss)"
   ]
  },
  {
   "cell_type": "code",
   "execution_count": null,
   "id": "64e3fe57",
   "metadata": {},
   "outputs": [],
   "source": [
    "# Lmao build the real dataset\n",
    "xs, ys = [], []\n",
    "for word in words[:]:\n",
    "    chs = ['.'] + list(word) + ['.']\n",
    "    for c1, c2 in zip(chs, chs[1:]):\n",
    "        ix1 = stoi[c1]\n",
    "        ix2 = stoi[c2]\n",
    "        xs.append(ix1)\n",
    "        ys.append(ix2)\n",
    "xs = torch.tensor(xs)\n",
    "ys = torch.tensor(ys)"
   ]
  },
  {
   "cell_type": "code",
   "execution_count": null,
   "id": "1348618f",
   "metadata": {},
   "outputs": [],
   "source": [
    "print(xs.nelement())\n",
    "print(ys.nelement())"
   ]
  },
  {
   "cell_type": "code",
   "execution_count": null,
   "id": "f03a51db",
   "metadata": {},
   "outputs": [],
   "source": [
    "xs_encoded = f.one_hot(xs, num_classes=27).float()\n",
    "xs_encoded.shape"
   ]
  },
  {
   "cell_type": "code",
   "execution_count": null,
   "id": "b0dec515",
   "metadata": {},
   "outputs": [],
   "source": [
    "epochs = 100\n",
    "lr = 100\n",
    "W = torch.randn((27, 27), requires_grad=True)\n",
    "losses = []\n",
    "for k in range(epochs):\n",
    "    logits = (xs_encoded @ W)\n",
    "    probs = f.softmax(logits, dim=1)\n",
    "    loss = -probs[torch.arange(xs.nelement()), ys].log().mean()\n",
    "    W.grad = None\n",
    "    loss.backward()\n",
    "    W.data -= lr * W.grad\n",
    "    losses.append(loss.item())\n",
    "\n",
    "print(losses[-1])\n",
    "plt.plot(range(epochs), losses)\n",
    "plt.xlabel('Epochs')\n",
    "plt.ylabel('Loss')\n",
    "plt.title('Loss vs Epochs')\n",
    "plt.show()"
   ]
  },
  {
   "cell_type": "code",
   "execution_count": null,
   "id": "2424bbe5",
   "metadata": {},
   "outputs": [],
   "source": [
    "def predict(ix: int) -> int:\n",
    "    ix_encoded = f.one_hot(torch.tensor(ix), num_classes=27).float()\n",
    "    logits = ix_encoded @ W\n",
    "    probs = f.softmax(logits, dim = 0)\n",
    "    return torch.argmax(probs).item()\n",
    "print(predict(0))"
   ]
  },
  {
   "cell_type": "code",
   "execution_count": null,
   "id": "da612a6c",
   "metadata": {},
   "outputs": [],
   "source": [
    "print(stoi['.'])"
   ]
  },
  {
   "cell_type": "code",
   "execution_count": null,
   "id": "c0c7b04a",
   "metadata": {},
   "outputs": [],
   "source": [
    "ix = 26\n",
    "output = \"\"\n",
    "stop = 0\n",
    "while True:\n",
    "  ix = predict(ix)\n",
    "  print(itos[ix])\n",
    "  output += itos[ix]\n",
    "print(output)"
   ]
  }
 ],
 "metadata": {
  "kernelspec": {
   "display_name": "venv",
   "language": "python",
   "name": "python3"
  },
  "language_info": {
   "codemirror_mode": {
    "name": "ipython",
    "version": 3
   },
   "file_extension": ".py",
   "mimetype": "text/x-python",
   "name": "python",
   "nbconvert_exporter": "python",
   "pygments_lexer": "ipython3",
   "version": "3.10.12"
  }
 },
 "nbformat": 4,
 "nbformat_minor": 5
}
